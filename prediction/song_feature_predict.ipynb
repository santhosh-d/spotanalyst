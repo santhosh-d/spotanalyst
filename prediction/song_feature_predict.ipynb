{
 "cells": [
  {
   "cell_type": "code",
   "execution_count": null,
   "metadata": {},
   "outputs": [],
   "source": [
    "import pandas as pd\n",
    "import matplotlib.pyplot as plt\n",
    "from pycaret.classification import *\n",
    "from pycaret.clustering import *\n",
    "import numpy as np"
   ]
  },
  {
   "cell_type": "code",
   "execution_count": null,
   "metadata": {},
   "outputs": [],
   "source": [
    "data1=pd.DataFrame(pd.read_csv(r'./spotify_data/feature_nov2018.csv'))\n",
    "data2=pd.DataFrame(pd.read_csv(r'./spotify_data/feature_apr2019.csv'))\n",
    "combined_audio_features=pd.concat([data1,data2])\n",
    "combined_audio_features.to_csv(r'./spotify_data/audio_features.csv',index=False)"
   ]
  },
  {
   "cell_type": "code",
   "execution_count": null,
   "metadata": {},
   "outputs": [],
   "source": [
    "songs=pd.DataFrame(pd.read_csv(r'./spotify_data/audio_features.csv'))\n",
    "print(\"Before Renaming Columns\\n\\n\",songs.columns)\n",
    "songs.drop(columns={'duration_ms','energy','instrumentalness','key','tempo',\n",
    "                    'mode','time_signature', 'valence','popularity'},inplace=True)\n",
    "songs.rename(columns={'artist_name':'artist','track_id':'id','track_name':'name'},inplace=True)\n",
    "print(\"\\n\\nAfter Editing Columns\\n\\n\",songs.columns)\n",
    "print(songs.info())"
   ]
  },
  {
   "cell_type": "markdown",
   "metadata": {},
   "source": [
    "Min Max Scaler Formula:\n",
    "\n",
    "X_std = (X - X.min(axis=0)) / (X.max(axis=0) - X.min(axis=0))\n",
    "\n",
    "X_scaled = X_std * (max - min) + min"
   ]
  },
  {
   "cell_type": "code",
   "execution_count": null,
   "metadata": {},
   "outputs": [],
   "source": [
    "from sklearn import preprocessing\n",
    "loudness=songs[['loudness']].values\n",
    "print(songs['loudness'].head())\n",
    "min_max_scaler=preprocessing.MinMaxScaler()\n",
    "loudness_scaled=min_max_scaler.fit_transform(loudness)\n",
    "songs['loudness']=pd.DataFrame(loudness_scaled)\n",
    "print(songs['loudness'].head())"
   ]
  },
  {
   "cell_type": "code",
   "execution_count": null,
   "metadata": {},
   "outputs": [],
   "source": [
    "songs.dropna(inplace=True)\n",
    "# songs['track_id'].value_counts()\n",
    "songs.drop_duplicates(subset=['name'],inplace=True)\n",
    "songs.info()"
   ]
  },
  {
   "cell_type": "code",
   "execution_count": null,
   "metadata": {},
   "outputs": [],
   "source": [
    "print(songs.dtypes)\n",
    "songs.hist(column=None,bins=50,figsize=(20,15))"
   ]
  },
  {
   "cell_type": "code",
   "execution_count": null,
   "metadata": {},
   "outputs": [],
   "source": [
    "songs_copied = songs.copy()\n",
    "songs_copied = songs_copied.drop(['name','artist','id'],axis=1)\n",
    "print(songs_copied.head())\n",
    "print(songs_copied.info())"
   ]
  },
  {
   "cell_type": "code",
   "execution_count": null,
   "metadata": {},
   "outputs": [],
   "source": [
    "songs_features=songs_copied.astype({'danceability':'float32','loudness':'float32',\n",
    "                    'speechiness':'float32','acousticness':'float32',\n",
    "                    'liveness':'float32'},copy=True)\n",
    "songs_features.info()\n",
    "print(type(songs_features))"
   ]
  },
  {
   "cell_type": "markdown",
   "metadata": {},
   "source": [
    "PyCaret Module is now getting used to train and predict the Model\n",
    "\n",
    "Setup: \n",
    "\n",
    "This function initializes the training environment and creates the transformation pipeline. Setup function must be called before executing any other function. It takes one mandatory parameter: data. All the other parameters are optional."
   ]
  },
  {
   "cell_type": "code",
   "execution_count": null,
   "metadata": {},
   "outputs": [],
   "source": [
    "feature_setup = setup(data=songs_features,preprocess=True,n_jobs=-1,use_gpu=True,imputation_type='iterative',\n",
    "                      iterative_imputation_iters=10,numeric_imputation='mean',numeric_iterative_imputer='lightgbm')"
   ]
  },
  {
   "cell_type": "code",
   "execution_count": null,
   "metadata": {},
   "outputs": [],
   "source": [
    "kmeans=create_model(model='kmeans',num_clusters=4,round=4)"
   ]
  },
  {
   "cell_type": "code",
   "execution_count": null,
   "metadata": {},
   "outputs": [],
   "source": [
    "# assign labels using trained model\n",
    "kmeans_df = assign_model(model=kmeans,transformation=True)\n",
    "print(kmeans_df.info())\n",
    "print(kmeans_df['Cluster'].value_counts())"
   ]
  },
  {
   "cell_type": "code",
   "execution_count": null,
   "metadata": {},
   "outputs": [],
   "source": [
    "print(kmeans_df.head())"
   ]
  },
  {
   "cell_type": "code",
   "execution_count": null,
   "metadata": {},
   "outputs": [],
   "source": [
    "plot_model(model=kmeans,plot='cluster')\n",
    "#save=True, lets us save the image as HTML in our root directory"
   ]
  },
  {
   "cell_type": "code",
   "execution_count": null,
   "metadata": {},
   "outputs": [],
   "source": [
    "evaluate_model(kmeans)"
   ]
  },
  {
   "cell_type": "code",
   "execution_count": null,
   "metadata": {},
   "outputs": [],
   "source": [
    "# tuned_clustering=tune_model(data=kmeans_df,model=kmeans,supervised_target='Cluster',\n",
    "#                             supervised_type='classification',supervised_estimator='rf',optimize='Accuracy')\n",
    "\n",
    "#This wont work cause there is no Target field in the main csv file so we are adding a new csv file with cluster (target) column so that we can train and predict the data using Classifiers"
   ]
  },
  {
   "cell_type": "code",
   "execution_count": null,
   "metadata": {},
   "outputs": [],
   "source": [
    "pred_cluster_model=predict_model(model=kmeans,data=songs_features)\n",
    "print(pred_cluster_model)"
   ]
  },
  {
   "cell_type": "code",
   "execution_count": null,
   "metadata": {},
   "outputs": [],
   "source": [
    "songs['Cluster']=kmeans_df['Cluster']\n",
    "songs=songs.sample(frac=1)\n",
    "songs.head(5)"
   ]
  },
  {
   "cell_type": "code",
   "execution_count": null,
   "metadata": {},
   "outputs": [],
   "source": [
    "print(\"Number of Songs in Each Cluster: \\n\\n\",songs['Cluster'].value_counts())"
   ]
  },
  {
   "cell_type": "code",
   "execution_count": null,
   "metadata": {},
   "outputs": [],
   "source": [
    "print(\"\\nCluster 0:\\n\\n\",songs[songs['Cluster']=='Cluster 0'].mean())\n",
    "print(\"\\nCluster 1:\\n\\n\",songs[songs['Cluster']=='Cluster 1'].mean())\n",
    "print(\"\\nCluster 2:\\n\\n\",songs[songs['Cluster']=='Cluster 2'].mean())\n",
    "print(\"\\nCluster 3:\\n\\n\",songs[songs['Cluster']=='Cluster 3'].mean())"
   ]
  },
  {
   "cell_type": "code",
   "execution_count": null,
   "metadata": {},
   "outputs": [],
   "source": [
    "print(songs[songs['Cluster']=='Cluster 0'].head(50))"
   ]
  },
  {
   "cell_type": "code",
   "execution_count": null,
   "metadata": {
    "scrolled": true
   },
   "outputs": [],
   "source": [
    "print(songs[songs['Cluster']=='Cluster 1'].head(50))"
   ]
  },
  {
   "cell_type": "code",
   "execution_count": null,
   "metadata": {},
   "outputs": [],
   "source": [
    "print(songs[songs['Cluster']=='Cluster 2'].head(50))"
   ]
  },
  {
   "cell_type": "code",
   "execution_count": null,
   "metadata": {},
   "outputs": [],
   "source": [
    "print(songs[songs['Cluster']=='Cluster 3'].head(50))"
   ]
  },
  {
   "cell_type": "markdown",
   "metadata": {},
   "source": [
    "**Classification of the Dataset Starting from here!**"
   ]
  },
  {
   "cell_type": "code",
   "execution_count": null,
   "metadata": {},
   "outputs": [],
   "source": [
    "songs.to_csv('./final_data/finalized.csv',index=False)"
   ]
  },
  {
   "cell_type": "code",
   "execution_count": null,
   "metadata": {},
   "outputs": [],
   "source": [
    "final_audio_analysis=pd.DataFrame(pd.read_csv('./final_data/finalized.csv'))\n",
    "final_audio_analysis.info(memory_usage='deep')"
   ]
  },
  {
   "cell_type": "code",
   "execution_count": null,
   "metadata": {},
   "outputs": [],
   "source": [
    "# final_audio_analysis=audio_analysis.astype({'danceability':'float16','loudness':'float16',\n",
    "#                     'speechiness':'float16','acousticness':'float16','liveness':'float16','Cluster':'category'},copy=False)\n",
    "# print(final_audio_analysis.info(memory_usage='deep'))\n",
    "# print(type(final_audio_analysis))"
   ]
  },
  {
   "cell_type": "code",
   "execution_count": null,
   "metadata": {},
   "outputs": [],
   "source": [
    "# final_audio_analysis.dropna(inplace=True)\n",
    "# # songs['track_id'].value_counts()\n",
    "# final_audio_analysis.drop_duplicates(subset=['name'],inplace=True)\n",
    "# final_audio_analysis.info()"
   ]
  },
  {
   "cell_type": "code",
   "execution_count": null,
   "metadata": {},
   "outputs": [],
   "source": [
    "# final_audio_analysis=final_audio_analysis.astype({'Cluster':'category'},copy=True)\n",
    "# print(final_audio_analysis.info())"
   ]
  },
  {
   "cell_type": "code",
   "execution_count": null,
   "metadata": {},
   "outputs": [],
   "source": [
    "from pycaret.classification import *\n",
    "\n",
    "\n",
    "classify_setup=setup(data=final_audio_analysis,target=\"Cluster\",train_size=0.75,preprocess=True,transformation=True,\n",
    "                     imputation_type='iterative',iterative_imputation_iters=20,numeric_imputation='mean',\n",
    "                     numeric_iterative_imputer='lightgbm',n_jobs=-1,use_gpu=True,\n",
    "                     ignore_features=[\"name\",\"id\",\"artist\"],normalize=True,normalize_method='robust',\n",
    "                     remove_outliers=True,outliers_threshold=0.08)"
   ]
  },
  {
   "cell_type": "code",
   "execution_count": null,
   "metadata": {},
   "outputs": [],
   "source": [
    "top3 = compare_models(n_select=3,fold=10,round=4,sort='Accuracy',include=['lightgbm','rf','svm','lr','dt','et'])"
   ]
  },
  {
   "cell_type": "code",
   "execution_count": null,
   "metadata": {},
   "outputs": [],
   "source": [
    "lightgbm=create_model('lightgbm',round=4,cross_validation=True)"
   ]
  },
  {
   "cell_type": "code",
   "execution_count": null,
   "metadata": {},
   "outputs": [],
   "source": [
    "tuned_light=tune_model(estimator=lightgbm,round=4,n_iter=20,optimize='Accuracy')"
   ]
  },
  {
   "cell_type": "code",
   "execution_count": null,
   "metadata": {},
   "outputs": [],
   "source": [
    "evaluate_model(tuned_light)"
   ]
  },
  {
   "cell_type": "code",
   "execution_count": null,
   "metadata": {},
   "outputs": [],
   "source": [
    "predict_light=predict_model(estimator=tuned_light,data=final_audio_analysis)\n",
    "print(predict_light.head())"
   ]
  },
  {
   "cell_type": "code",
   "execution_count": null,
   "metadata": {},
   "outputs": [],
   "source": [
    "finalized_light=finalize_model(estimator=tuned_light)"
   ]
  },
  {
   "cell_type": "code",
   "execution_count": null,
   "metadata": {},
   "outputs": [],
   "source": [
    "songanalysis_model=save_model(finalized_light,'songanalysis_model')"
   ]
  },
  {
   "cell_type": "code",
   "execution_count": null,
   "metadata": {},
   "outputs": [],
   "source": []
  }
 ],
 "metadata": {
  "kernelspec": {
   "name": "python379jvsc74a57bd0f0a871581a008f9484cd9f91783a53466b88136a8385a870e585a87e0d1d3998",
   "display_name": "Python 3.7.9 64-bit"
  },
  "language_info": {
   "codemirror_mode": {
    "name": "ipython",
    "version": 3
   },
   "file_extension": ".py",
   "mimetype": "text/x-python",
   "name": "python",
   "nbconvert_exporter": "python",
   "pygments_lexer": "ipython3",
   "version": "3.7.9"
  },
  "metadata": {
   "interpreter": {
    "hash": "f0a871581a008f9484cd9f91783a53466b88136a8385a870e585a87e0d1d3998"
   }
  }
 },
 "nbformat": 4,
 "nbformat_minor": 2
}