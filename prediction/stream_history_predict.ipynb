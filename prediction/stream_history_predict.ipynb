{
 "metadata": {
  "language_info": {
   "codemirror_mode": {
    "name": "ipython",
    "version": 3
   },
   "file_extension": ".py",
   "mimetype": "text/x-python",
   "name": "python",
   "nbconvert_exporter": "python",
   "pygments_lexer": "ipython3",
   "version": "3.7.9"
  },
  "orig_nbformat": 2,
  "kernelspec": {
   "name": "python379jvsc74a57bd0f0a871581a008f9484cd9f91783a53466b88136a8385a870e585a87e0d1d3998",
   "display_name": "Python 3.7.9 64-bit"
  },
  "metadata": {
   "interpreter": {
    "hash": "f0a871581a008f9484cd9f91783a53466b88136a8385a870e585a87e0d1d3998"
   }
  }
 },
 "nbformat": 4,
 "nbformat_minor": 2,
 "cells": [
  {
   "source": [
    "Merging and Cleaning Streaming History Data for Streaming History prediction"
   ],
   "cell_type": "markdown",
   "metadata": {}
  },
  {
   "source": [
    "import pandas as pd\n",
    "import matplotlib.pyplot as plt\n",
    "import numpy as np\n",
    "from pycaret.regression import *\n",
    "import plotly"
   ],
   "cell_type": "code",
   "metadata": {},
   "execution_count": 46,
   "outputs": []
  },
  {
   "cell_type": "code",
   "execution_count": 34,
   "metadata": {},
   "outputs": [
    {
     "output_type": "stream",
     "name": "stdout",
     "text": [
      "<class 'pandas.core.frame.DataFrame'>\nRangeIndex: 359 entries, 0 to 358\nData columns (total 2 columns):\n #   Column         Non-Null Count  Dtype         \n---  ------         --------------  -----         \n 0   date           359 non-null    datetime64[ns]\n 1   secondsPlayed  359 non-null    float64       \ndtypes: datetime64[ns](1), float64(1)\nmemory usage: 5.7 KB\n"
     ]
    }
   ],
   "source": [
    "data=pd.DataFrame(pd.read_csv(r'./final_data/StreamingHistory/cleaned_date_wise.csv'))\n",
    "data['date']=pd.to_datetime(data['date'].astype('datetime64[D]'))\n",
    "data.info()"
   ]
  },
  {
   "cell_type": "code",
   "execution_count": 35,
   "metadata": {},
   "outputs": [
    {
     "output_type": "stream",
     "name": "stdout",
     "text": [
      "<class 'pandas.core.frame.DataFrame'>\nDatetimeIndex: 359 entries, 2020-02-11 to 2021-02-12\nData columns (total 2 columns):\n #   Column         Non-Null Count  Dtype         \n---  ------         --------------  -----         \n 0   date           359 non-null    datetime64[ns]\n 1   secondsPlayed  359 non-null    float64       \ndtypes: datetime64[ns](1), float64(1)\nmemory usage: 8.4 KB\n"
     ]
    }
   ],
   "source": [
    "data=data.set_index(data['date'],drop=False)\n",
    "data.info()"
   ]
  },
  {
   "cell_type": "code",
   "execution_count": 4,
   "metadata": {},
   "outputs": [
    {
     "output_type": "display_data",
     "data": {
      "text/plain": "<pandas.io.formats.style.Styler at 0x2b724e3b808>",
      "text/html": "<style  type=\"text/css\" >\n</style><table id=\"T_a3c5c_\" ><thead>    <tr>        <th class=\"blank level0\" ></th>        <th class=\"col_heading level0 col0\" >Description</th>        <th class=\"col_heading level0 col1\" >Value</th>    </tr></thead><tbody>\n                <tr>\n                        <th id=\"T_a3c5c_level0_row0\" class=\"row_heading level0 row0\" >0</th>\n                        <td id=\"T_a3c5c_row0_col0\" class=\"data row0 col0\" >session_id</td>\n                        <td id=\"T_a3c5c_row0_col1\" class=\"data row0 col1\" >1599</td>\n            </tr>\n            <tr>\n                        <th id=\"T_a3c5c_level0_row1\" class=\"row_heading level0 row1\" >1</th>\n                        <td id=\"T_a3c5c_row1_col0\" class=\"data row1 col0\" >Target</td>\n                        <td id=\"T_a3c5c_row1_col1\" class=\"data row1 col1\" >secondsPlayed</td>\n            </tr>\n            <tr>\n                        <th id=\"T_a3c5c_level0_row2\" class=\"row_heading level0 row2\" >2</th>\n                        <td id=\"T_a3c5c_row2_col0\" class=\"data row2 col0\" >Original Data</td>\n                        <td id=\"T_a3c5c_row2_col1\" class=\"data row2 col1\" >(359, 2)</td>\n            </tr>\n            <tr>\n                        <th id=\"T_a3c5c_level0_row3\" class=\"row_heading level0 row3\" >3</th>\n                        <td id=\"T_a3c5c_row3_col0\" class=\"data row3 col0\" >Missing Values</td>\n                        <td id=\"T_a3c5c_row3_col1\" class=\"data row3 col1\" >False</td>\n            </tr>\n            <tr>\n                        <th id=\"T_a3c5c_level0_row4\" class=\"row_heading level0 row4\" >4</th>\n                        <td id=\"T_a3c5c_row4_col0\" class=\"data row4 col0\" >Numeric Features</td>\n                        <td id=\"T_a3c5c_row4_col1\" class=\"data row4 col1\" >0</td>\n            </tr>\n            <tr>\n                        <th id=\"T_a3c5c_level0_row5\" class=\"row_heading level0 row5\" >5</th>\n                        <td id=\"T_a3c5c_row5_col0\" class=\"data row5 col0\" >Categorical Features</td>\n                        <td id=\"T_a3c5c_row5_col1\" class=\"data row5 col1\" >0</td>\n            </tr>\n            <tr>\n                        <th id=\"T_a3c5c_level0_row6\" class=\"row_heading level0 row6\" >6</th>\n                        <td id=\"T_a3c5c_row6_col0\" class=\"data row6 col0\" >Ordinal Features</td>\n                        <td id=\"T_a3c5c_row6_col1\" class=\"data row6 col1\" >False</td>\n            </tr>\n            <tr>\n                        <th id=\"T_a3c5c_level0_row7\" class=\"row_heading level0 row7\" >7</th>\n                        <td id=\"T_a3c5c_row7_col0\" class=\"data row7 col0\" >High Cardinality Features</td>\n                        <td id=\"T_a3c5c_row7_col1\" class=\"data row7 col1\" >False</td>\n            </tr>\n            <tr>\n                        <th id=\"T_a3c5c_level0_row8\" class=\"row_heading level0 row8\" >8</th>\n                        <td id=\"T_a3c5c_row8_col0\" class=\"data row8 col0\" >High Cardinality Method</td>\n                        <td id=\"T_a3c5c_row8_col1\" class=\"data row8 col1\" >None</td>\n            </tr>\n            <tr>\n                        <th id=\"T_a3c5c_level0_row9\" class=\"row_heading level0 row9\" >9</th>\n                        <td id=\"T_a3c5c_row9_col0\" class=\"data row9 col0\" >Transformed Train Set</td>\n                        <td id=\"T_a3c5c_row9_col1\" class=\"data row9 col1\" >(269, 21)</td>\n            </tr>\n            <tr>\n                        <th id=\"T_a3c5c_level0_row10\" class=\"row_heading level0 row10\" >10</th>\n                        <td id=\"T_a3c5c_row10_col0\" class=\"data row10 col0\" >Transformed Test Set</td>\n                        <td id=\"T_a3c5c_row10_col1\" class=\"data row10 col1\" >(90, 21)</td>\n            </tr>\n            <tr>\n                        <th id=\"T_a3c5c_level0_row11\" class=\"row_heading level0 row11\" >11</th>\n                        <td id=\"T_a3c5c_row11_col0\" class=\"data row11 col0\" >Shuffle Train-Test</td>\n                        <td id=\"T_a3c5c_row11_col1\" class=\"data row11 col1\" >True</td>\n            </tr>\n            <tr>\n                        <th id=\"T_a3c5c_level0_row12\" class=\"row_heading level0 row12\" >12</th>\n                        <td id=\"T_a3c5c_row12_col0\" class=\"data row12 col0\" >Stratify Train-Test</td>\n                        <td id=\"T_a3c5c_row12_col1\" class=\"data row12 col1\" >False</td>\n            </tr>\n            <tr>\n                        <th id=\"T_a3c5c_level0_row13\" class=\"row_heading level0 row13\" >13</th>\n                        <td id=\"T_a3c5c_row13_col0\" class=\"data row13 col0\" >Fold Generator</td>\n                        <td id=\"T_a3c5c_row13_col1\" class=\"data row13 col1\" >KFold</td>\n            </tr>\n            <tr>\n                        <th id=\"T_a3c5c_level0_row14\" class=\"row_heading level0 row14\" >14</th>\n                        <td id=\"T_a3c5c_row14_col0\" class=\"data row14 col0\" >Fold Number</td>\n                        <td id=\"T_a3c5c_row14_col1\" class=\"data row14 col1\" >10</td>\n            </tr>\n            <tr>\n                        <th id=\"T_a3c5c_level0_row15\" class=\"row_heading level0 row15\" >15</th>\n                        <td id=\"T_a3c5c_row15_col0\" class=\"data row15 col0\" >CPU Jobs</td>\n                        <td id=\"T_a3c5c_row15_col1\" class=\"data row15 col1\" >-1</td>\n            </tr>\n            <tr>\n                        <th id=\"T_a3c5c_level0_row16\" class=\"row_heading level0 row16\" >16</th>\n                        <td id=\"T_a3c5c_row16_col0\" class=\"data row16 col0\" >Use GPU</td>\n                        <td id=\"T_a3c5c_row16_col1\" class=\"data row16 col1\" >False</td>\n            </tr>\n            <tr>\n                        <th id=\"T_a3c5c_level0_row17\" class=\"row_heading level0 row17\" >17</th>\n                        <td id=\"T_a3c5c_row17_col0\" class=\"data row17 col0\" >Log Experiment</td>\n                        <td id=\"T_a3c5c_row17_col1\" class=\"data row17 col1\" >False</td>\n            </tr>\n            <tr>\n                        <th id=\"T_a3c5c_level0_row18\" class=\"row_heading level0 row18\" >18</th>\n                        <td id=\"T_a3c5c_row18_col0\" class=\"data row18 col0\" >Experiment Name</td>\n                        <td id=\"T_a3c5c_row18_col1\" class=\"data row18 col1\" >reg-default-name</td>\n            </tr>\n            <tr>\n                        <th id=\"T_a3c5c_level0_row19\" class=\"row_heading level0 row19\" >19</th>\n                        <td id=\"T_a3c5c_row19_col0\" class=\"data row19 col0\" >USI</td>\n                        <td id=\"T_a3c5c_row19_col1\" class=\"data row19 col1\" >7491</td>\n            </tr>\n            <tr>\n                        <th id=\"T_a3c5c_level0_row20\" class=\"row_heading level0 row20\" >20</th>\n                        <td id=\"T_a3c5c_row20_col0\" class=\"data row20 col0\" >Imputation Type</td>\n                        <td id=\"T_a3c5c_row20_col1\" class=\"data row20 col1\" >simple</td>\n            </tr>\n            <tr>\n                        <th id=\"T_a3c5c_level0_row21\" class=\"row_heading level0 row21\" >21</th>\n                        <td id=\"T_a3c5c_row21_col0\" class=\"data row21 col0\" >Iterative Imputation Iteration</td>\n                        <td id=\"T_a3c5c_row21_col1\" class=\"data row21 col1\" >None</td>\n            </tr>\n            <tr>\n                        <th id=\"T_a3c5c_level0_row22\" class=\"row_heading level0 row22\" >22</th>\n                        <td id=\"T_a3c5c_row22_col0\" class=\"data row22 col0\" >Numeric Imputer</td>\n                        <td id=\"T_a3c5c_row22_col1\" class=\"data row22 col1\" >mean</td>\n            </tr>\n            <tr>\n                        <th id=\"T_a3c5c_level0_row23\" class=\"row_heading level0 row23\" >23</th>\n                        <td id=\"T_a3c5c_row23_col0\" class=\"data row23 col0\" >Iterative Imputation Numeric Model</td>\n                        <td id=\"T_a3c5c_row23_col1\" class=\"data row23 col1\" >None</td>\n            </tr>\n            <tr>\n                        <th id=\"T_a3c5c_level0_row24\" class=\"row_heading level0 row24\" >24</th>\n                        <td id=\"T_a3c5c_row24_col0\" class=\"data row24 col0\" >Categorical Imputer</td>\n                        <td id=\"T_a3c5c_row24_col1\" class=\"data row24 col1\" >constant</td>\n            </tr>\n            <tr>\n                        <th id=\"T_a3c5c_level0_row25\" class=\"row_heading level0 row25\" >25</th>\n                        <td id=\"T_a3c5c_row25_col0\" class=\"data row25 col0\" >Iterative Imputation Categorical Model</td>\n                        <td id=\"T_a3c5c_row25_col1\" class=\"data row25 col1\" >None</td>\n            </tr>\n            <tr>\n                        <th id=\"T_a3c5c_level0_row26\" class=\"row_heading level0 row26\" >26</th>\n                        <td id=\"T_a3c5c_row26_col0\" class=\"data row26 col0\" >Unknown Categoricals Handling</td>\n                        <td id=\"T_a3c5c_row26_col1\" class=\"data row26 col1\" >least_frequent</td>\n            </tr>\n            <tr>\n                        <th id=\"T_a3c5c_level0_row27\" class=\"row_heading level0 row27\" >27</th>\n                        <td id=\"T_a3c5c_row27_col0\" class=\"data row27 col0\" >Normalize</td>\n                        <td id=\"T_a3c5c_row27_col1\" class=\"data row27 col1\" >False</td>\n            </tr>\n            <tr>\n                        <th id=\"T_a3c5c_level0_row28\" class=\"row_heading level0 row28\" >28</th>\n                        <td id=\"T_a3c5c_row28_col0\" class=\"data row28 col0\" >Normalize Method</td>\n                        <td id=\"T_a3c5c_row28_col1\" class=\"data row28 col1\" >None</td>\n            </tr>\n            <tr>\n                        <th id=\"T_a3c5c_level0_row29\" class=\"row_heading level0 row29\" >29</th>\n                        <td id=\"T_a3c5c_row29_col0\" class=\"data row29 col0\" >Transformation</td>\n                        <td id=\"T_a3c5c_row29_col1\" class=\"data row29 col1\" >False</td>\n            </tr>\n            <tr>\n                        <th id=\"T_a3c5c_level0_row30\" class=\"row_heading level0 row30\" >30</th>\n                        <td id=\"T_a3c5c_row30_col0\" class=\"data row30 col0\" >Transformation Method</td>\n                        <td id=\"T_a3c5c_row30_col1\" class=\"data row30 col1\" >None</td>\n            </tr>\n            <tr>\n                        <th id=\"T_a3c5c_level0_row31\" class=\"row_heading level0 row31\" >31</th>\n                        <td id=\"T_a3c5c_row31_col0\" class=\"data row31 col0\" >PCA</td>\n                        <td id=\"T_a3c5c_row31_col1\" class=\"data row31 col1\" >False</td>\n            </tr>\n            <tr>\n                        <th id=\"T_a3c5c_level0_row32\" class=\"row_heading level0 row32\" >32</th>\n                        <td id=\"T_a3c5c_row32_col0\" class=\"data row32 col0\" >PCA Method</td>\n                        <td id=\"T_a3c5c_row32_col1\" class=\"data row32 col1\" >None</td>\n            </tr>\n            <tr>\n                        <th id=\"T_a3c5c_level0_row33\" class=\"row_heading level0 row33\" >33</th>\n                        <td id=\"T_a3c5c_row33_col0\" class=\"data row33 col0\" >PCA Components</td>\n                        <td id=\"T_a3c5c_row33_col1\" class=\"data row33 col1\" >None</td>\n            </tr>\n            <tr>\n                        <th id=\"T_a3c5c_level0_row34\" class=\"row_heading level0 row34\" >34</th>\n                        <td id=\"T_a3c5c_row34_col0\" class=\"data row34 col0\" >Ignore Low Variance</td>\n                        <td id=\"T_a3c5c_row34_col1\" class=\"data row34 col1\" >False</td>\n            </tr>\n            <tr>\n                        <th id=\"T_a3c5c_level0_row35\" class=\"row_heading level0 row35\" >35</th>\n                        <td id=\"T_a3c5c_row35_col0\" class=\"data row35 col0\" >Combine Rare Levels</td>\n                        <td id=\"T_a3c5c_row35_col1\" class=\"data row35 col1\" >False</td>\n            </tr>\n            <tr>\n                        <th id=\"T_a3c5c_level0_row36\" class=\"row_heading level0 row36\" >36</th>\n                        <td id=\"T_a3c5c_row36_col0\" class=\"data row36 col0\" >Rare Level Threshold</td>\n                        <td id=\"T_a3c5c_row36_col1\" class=\"data row36 col1\" >None</td>\n            </tr>\n            <tr>\n                        <th id=\"T_a3c5c_level0_row37\" class=\"row_heading level0 row37\" >37</th>\n                        <td id=\"T_a3c5c_row37_col0\" class=\"data row37 col0\" >Numeric Binning</td>\n                        <td id=\"T_a3c5c_row37_col1\" class=\"data row37 col1\" >False</td>\n            </tr>\n            <tr>\n                        <th id=\"T_a3c5c_level0_row38\" class=\"row_heading level0 row38\" >38</th>\n                        <td id=\"T_a3c5c_row38_col0\" class=\"data row38 col0\" >Remove Outliers</td>\n                        <td id=\"T_a3c5c_row38_col1\" class=\"data row38 col1\" >False</td>\n            </tr>\n            <tr>\n                        <th id=\"T_a3c5c_level0_row39\" class=\"row_heading level0 row39\" >39</th>\n                        <td id=\"T_a3c5c_row39_col0\" class=\"data row39 col0\" >Outliers Threshold</td>\n                        <td id=\"T_a3c5c_row39_col1\" class=\"data row39 col1\" >None</td>\n            </tr>\n            <tr>\n                        <th id=\"T_a3c5c_level0_row40\" class=\"row_heading level0 row40\" >40</th>\n                        <td id=\"T_a3c5c_row40_col0\" class=\"data row40 col0\" >Remove Multicollinearity</td>\n                        <td id=\"T_a3c5c_row40_col1\" class=\"data row40 col1\" >False</td>\n            </tr>\n            <tr>\n                        <th id=\"T_a3c5c_level0_row41\" class=\"row_heading level0 row41\" >41</th>\n                        <td id=\"T_a3c5c_row41_col0\" class=\"data row41 col0\" >Multicollinearity Threshold</td>\n                        <td id=\"T_a3c5c_row41_col1\" class=\"data row41 col1\" >None</td>\n            </tr>\n            <tr>\n                        <th id=\"T_a3c5c_level0_row42\" class=\"row_heading level0 row42\" >42</th>\n                        <td id=\"T_a3c5c_row42_col0\" class=\"data row42 col0\" >Clustering</td>\n                        <td id=\"T_a3c5c_row42_col1\" class=\"data row42 col1\" >False</td>\n            </tr>\n            <tr>\n                        <th id=\"T_a3c5c_level0_row43\" class=\"row_heading level0 row43\" >43</th>\n                        <td id=\"T_a3c5c_row43_col0\" class=\"data row43 col0\" >Clustering Iteration</td>\n                        <td id=\"T_a3c5c_row43_col1\" class=\"data row43 col1\" >None</td>\n            </tr>\n            <tr>\n                        <th id=\"T_a3c5c_level0_row44\" class=\"row_heading level0 row44\" >44</th>\n                        <td id=\"T_a3c5c_row44_col0\" class=\"data row44 col0\" >Polynomial Features</td>\n                        <td id=\"T_a3c5c_row44_col1\" class=\"data row44 col1\" >False</td>\n            </tr>\n            <tr>\n                        <th id=\"T_a3c5c_level0_row45\" class=\"row_heading level0 row45\" >45</th>\n                        <td id=\"T_a3c5c_row45_col0\" class=\"data row45 col0\" >Polynomial Degree</td>\n                        <td id=\"T_a3c5c_row45_col1\" class=\"data row45 col1\" >None</td>\n            </tr>\n            <tr>\n                        <th id=\"T_a3c5c_level0_row46\" class=\"row_heading level0 row46\" >46</th>\n                        <td id=\"T_a3c5c_row46_col0\" class=\"data row46 col0\" >Trignometry Features</td>\n                        <td id=\"T_a3c5c_row46_col1\" class=\"data row46 col1\" >False</td>\n            </tr>\n            <tr>\n                        <th id=\"T_a3c5c_level0_row47\" class=\"row_heading level0 row47\" >47</th>\n                        <td id=\"T_a3c5c_row47_col0\" class=\"data row47 col0\" >Polynomial Threshold</td>\n                        <td id=\"T_a3c5c_row47_col1\" class=\"data row47 col1\" >None</td>\n            </tr>\n            <tr>\n                        <th id=\"T_a3c5c_level0_row48\" class=\"row_heading level0 row48\" >48</th>\n                        <td id=\"T_a3c5c_row48_col0\" class=\"data row48 col0\" >Group Features</td>\n                        <td id=\"T_a3c5c_row48_col1\" class=\"data row48 col1\" >False</td>\n            </tr>\n            <tr>\n                        <th id=\"T_a3c5c_level0_row49\" class=\"row_heading level0 row49\" >49</th>\n                        <td id=\"T_a3c5c_row49_col0\" class=\"data row49 col0\" >Feature Selection</td>\n                        <td id=\"T_a3c5c_row49_col1\" class=\"data row49 col1\" >False</td>\n            </tr>\n            <tr>\n                        <th id=\"T_a3c5c_level0_row50\" class=\"row_heading level0 row50\" >50</th>\n                        <td id=\"T_a3c5c_row50_col0\" class=\"data row50 col0\" >Feature Selection Method</td>\n                        <td id=\"T_a3c5c_row50_col1\" class=\"data row50 col1\" >classic</td>\n            </tr>\n            <tr>\n                        <th id=\"T_a3c5c_level0_row51\" class=\"row_heading level0 row51\" >51</th>\n                        <td id=\"T_a3c5c_row51_col0\" class=\"data row51 col0\" >Features Selection Threshold</td>\n                        <td id=\"T_a3c5c_row51_col1\" class=\"data row51 col1\" >None</td>\n            </tr>\n            <tr>\n                        <th id=\"T_a3c5c_level0_row52\" class=\"row_heading level0 row52\" >52</th>\n                        <td id=\"T_a3c5c_row52_col0\" class=\"data row52 col0\" >Feature Interaction</td>\n                        <td id=\"T_a3c5c_row52_col1\" class=\"data row52 col1\" >False</td>\n            </tr>\n            <tr>\n                        <th id=\"T_a3c5c_level0_row53\" class=\"row_heading level0 row53\" >53</th>\n                        <td id=\"T_a3c5c_row53_col0\" class=\"data row53 col0\" >Feature Ratio</td>\n                        <td id=\"T_a3c5c_row53_col1\" class=\"data row53 col1\" >False</td>\n            </tr>\n            <tr>\n                        <th id=\"T_a3c5c_level0_row54\" class=\"row_heading level0 row54\" >54</th>\n                        <td id=\"T_a3c5c_row54_col0\" class=\"data row54 col0\" >Interaction Threshold</td>\n                        <td id=\"T_a3c5c_row54_col1\" class=\"data row54 col1\" >None</td>\n            </tr>\n            <tr>\n                        <th id=\"T_a3c5c_level0_row55\" class=\"row_heading level0 row55\" >55</th>\n                        <td id=\"T_a3c5c_row55_col0\" class=\"data row55 col0\" >Transform Target</td>\n                        <td id=\"T_a3c5c_row55_col1\" class=\"data row55 col1\" >False</td>\n            </tr>\n            <tr>\n                        <th id=\"T_a3c5c_level0_row56\" class=\"row_heading level0 row56\" >56</th>\n                        <td id=\"T_a3c5c_row56_col0\" class=\"data row56 col0\" >Transform Target Method</td>\n                        <td id=\"T_a3c5c_row56_col1\" class=\"data row56 col1\" >box-cox</td>\n            </tr>\n    </tbody></table>"
     },
     "metadata": {}
    }
   ],
   "source": [
    "reg=setup(data=data,target='secondsPlayed',train_size=0.75,n_jobs=-1)"
   ]
  },
  {
   "cell_type": "code",
   "execution_count": 5,
   "metadata": {},
   "outputs": [
    {
     "output_type": "display_data",
     "data": {
      "text/plain": "<pandas.io.formats.style.Styler at 0x2b724ef8688>",
      "text/html": "<style  type=\"text/css\" >\n    #T_74f8e_ th {\n          text-align: left;\n    }#T_74f8e_row0_col0,#T_74f8e_row0_col6,#T_74f8e_row1_col0,#T_74f8e_row1_col1,#T_74f8e_row1_col2,#T_74f8e_row1_col3,#T_74f8e_row1_col4,#T_74f8e_row1_col5,#T_74f8e_row1_col6,#T_74f8e_row2_col0,#T_74f8e_row2_col1,#T_74f8e_row2_col2,#T_74f8e_row2_col3,#T_74f8e_row2_col4,#T_74f8e_row2_col5,#T_74f8e_row2_col6,#T_74f8e_row3_col0,#T_74f8e_row3_col1,#T_74f8e_row3_col2,#T_74f8e_row3_col3,#T_74f8e_row3_col4,#T_74f8e_row3_col5,#T_74f8e_row3_col6,#T_74f8e_row4_col0,#T_74f8e_row4_col1,#T_74f8e_row4_col2,#T_74f8e_row4_col3,#T_74f8e_row4_col4,#T_74f8e_row4_col5,#T_74f8e_row4_col6,#T_74f8e_row5_col0,#T_74f8e_row5_col1,#T_74f8e_row5_col2,#T_74f8e_row5_col3,#T_74f8e_row5_col4,#T_74f8e_row5_col5,#T_74f8e_row5_col6,#T_74f8e_row6_col0,#T_74f8e_row6_col1,#T_74f8e_row6_col2,#T_74f8e_row6_col3,#T_74f8e_row6_col4,#T_74f8e_row6_col5,#T_74f8e_row6_col6,#T_74f8e_row7_col0,#T_74f8e_row7_col1,#T_74f8e_row7_col2,#T_74f8e_row7_col3,#T_74f8e_row7_col4,#T_74f8e_row7_col5,#T_74f8e_row7_col6,#T_74f8e_row8_col0,#T_74f8e_row8_col1,#T_74f8e_row8_col2,#T_74f8e_row8_col3,#T_74f8e_row8_col4,#T_74f8e_row8_col5,#T_74f8e_row8_col6,#T_74f8e_row9_col0,#T_74f8e_row9_col1,#T_74f8e_row9_col2,#T_74f8e_row9_col3,#T_74f8e_row9_col4,#T_74f8e_row9_col5,#T_74f8e_row9_col6,#T_74f8e_row10_col0,#T_74f8e_row10_col1,#T_74f8e_row10_col2,#T_74f8e_row10_col3,#T_74f8e_row10_col4,#T_74f8e_row10_col5,#T_74f8e_row10_col6,#T_74f8e_row11_col0,#T_74f8e_row11_col1,#T_74f8e_row11_col2,#T_74f8e_row11_col3,#T_74f8e_row11_col4,#T_74f8e_row11_col5,#T_74f8e_row11_col6,#T_74f8e_row12_col0,#T_74f8e_row12_col1,#T_74f8e_row12_col2,#T_74f8e_row12_col3,#T_74f8e_row12_col4,#T_74f8e_row12_col5,#T_74f8e_row13_col0,#T_74f8e_row13_col1,#T_74f8e_row13_col2,#T_74f8e_row13_col3,#T_74f8e_row13_col4,#T_74f8e_row13_col5,#T_74f8e_row13_col6,#T_74f8e_row14_col0,#T_74f8e_row14_col1,#T_74f8e_row14_col2,#T_74f8e_row14_col3,#T_74f8e_row14_col4,#T_74f8e_row14_col5,#T_74f8e_row14_col6,#T_74f8e_row15_col0,#T_74f8e_row15_col1,#T_74f8e_row15_col2,#T_74f8e_row15_col3,#T_74f8e_row15_col4,#T_74f8e_row15_col5,#T_74f8e_row15_col6,#T_74f8e_row16_col0,#T_74f8e_row16_col1,#T_74f8e_row16_col2,#T_74f8e_row16_col3,#T_74f8e_row16_col4,#T_74f8e_row16_col5,#T_74f8e_row16_col6{\n            text-align:  left;\n            text-align:  left;\n        }#T_74f8e_row0_col1,#T_74f8e_row0_col2,#T_74f8e_row0_col3,#T_74f8e_row0_col4,#T_74f8e_row0_col5,#T_74f8e_row12_col6{\n            text-align:  left;\n            text-align:  left;\n            background-color:  yellow;\n        }#T_74f8e_row0_col7,#T_74f8e_row1_col7,#T_74f8e_row2_col7,#T_74f8e_row4_col7,#T_74f8e_row5_col7,#T_74f8e_row6_col7,#T_74f8e_row7_col7,#T_74f8e_row8_col7,#T_74f8e_row9_col7,#T_74f8e_row10_col7,#T_74f8e_row11_col7,#T_74f8e_row12_col7,#T_74f8e_row13_col7,#T_74f8e_row14_col7,#T_74f8e_row15_col7,#T_74f8e_row16_col7{\n            text-align:  left;\n            text-align:  left;\n            background-color:  lightgrey;\n        }#T_74f8e_row3_col7{\n            text-align:  left;\n            text-align:  left;\n            background-color:  yellow;\n            background-color:  lightgrey;\n        }</style><table id=\"T_74f8e_\" ><thead>    <tr>        <th class=\"blank level0\" ></th>        <th class=\"col_heading level0 col0\" >Model</th>        <th class=\"col_heading level0 col1\" >MAE</th>        <th class=\"col_heading level0 col2\" >MSE</th>        <th class=\"col_heading level0 col3\" >RMSE</th>        <th class=\"col_heading level0 col4\" >R2</th>        <th class=\"col_heading level0 col5\" >RMSLE</th>        <th class=\"col_heading level0 col6\" >MAPE</th>        <th class=\"col_heading level0 col7\" >TT (Sec)</th>    </tr></thead><tbody>\n                <tr>\n                        <th id=\"T_74f8e_level0_row0\" class=\"row_heading level0 row0\" >br</th>\n                        <td id=\"T_74f8e_row0_col0\" class=\"data row0 col0\" >Bayesian Ridge</td>\n                        <td id=\"T_74f8e_row0_col1\" class=\"data row0 col1\" >2572.6558</td>\n                        <td id=\"T_74f8e_row0_col2\" class=\"data row0 col2\" >11541291.8529</td>\n                        <td id=\"T_74f8e_row0_col3\" class=\"data row0 col3\" >3046.6888</td>\n                        <td id=\"T_74f8e_row0_col4\" class=\"data row0 col4\" >-3.1718</td>\n                        <td id=\"T_74f8e_row0_col5\" class=\"data row0 col5\" >0.9124</td>\n                        <td id=\"T_74f8e_row0_col6\" class=\"data row0 col6\" >3.2045</td>\n                        <td id=\"T_74f8e_row0_col7\" class=\"data row0 col7\" >0.0128</td>\n            </tr>\n            <tr>\n                        <th id=\"T_74f8e_level0_row1\" class=\"row_heading level0 row1\" >en</th>\n                        <td id=\"T_74f8e_row1_col0\" class=\"data row1 col0\" >Elastic Net</td>\n                        <td id=\"T_74f8e_row1_col1\" class=\"data row1 col1\" >2576.7249</td>\n                        <td id=\"T_74f8e_row1_col2\" class=\"data row1 col2\" >11549038.3195</td>\n                        <td id=\"T_74f8e_row1_col3\" class=\"data row1 col3\" >3054.1200</td>\n                        <td id=\"T_74f8e_row1_col4\" class=\"data row1 col4\" >-3.4644</td>\n                        <td id=\"T_74f8e_row1_col5\" class=\"data row1 col5\" >0.9138</td>\n                        <td id=\"T_74f8e_row1_col6\" class=\"data row1 col6\" >3.1734</td>\n                        <td id=\"T_74f8e_row1_col7\" class=\"data row1 col7\" >0.0115</td>\n            </tr>\n            <tr>\n                        <th id=\"T_74f8e_level0_row2\" class=\"row_heading level0 row2\" >ada</th>\n                        <td id=\"T_74f8e_row2_col0\" class=\"data row2 col0\" >AdaBoost Regressor</td>\n                        <td id=\"T_74f8e_row2_col1\" class=\"data row2 col1\" >2802.2738</td>\n                        <td id=\"T_74f8e_row2_col2\" class=\"data row2 col2\" >13193056.4372</td>\n                        <td id=\"T_74f8e_row2_col3\" class=\"data row2 col3\" >3245.6491</td>\n                        <td id=\"T_74f8e_row2_col4\" class=\"data row2 col4\" >-3.9836</td>\n                        <td id=\"T_74f8e_row2_col5\" class=\"data row2 col5\" >0.9520</td>\n                        <td id=\"T_74f8e_row2_col6\" class=\"data row2 col6\" >3.5278</td>\n                        <td id=\"T_74f8e_row2_col7\" class=\"data row2 col7\" >0.0270</td>\n            </tr>\n            <tr>\n                        <th id=\"T_74f8e_level0_row3\" class=\"row_heading level0 row3\" >omp</th>\n                        <td id=\"T_74f8e_row3_col0\" class=\"data row3 col0\" >Orthogonal Matching Pursuit</td>\n                        <td id=\"T_74f8e_row3_col1\" class=\"data row3 col1\" >2679.2261</td>\n                        <td id=\"T_74f8e_row3_col2\" class=\"data row3 col2\" >12106578.4191</td>\n                        <td id=\"T_74f8e_row3_col3\" class=\"data row3 col3\" >3154.8432</td>\n                        <td id=\"T_74f8e_row3_col4\" class=\"data row3 col4\" >-4.5158</td>\n                        <td id=\"T_74f8e_row3_col5\" class=\"data row3 col5\" >0.9397</td>\n                        <td id=\"T_74f8e_row3_col6\" class=\"data row3 col6\" >3.3901</td>\n                        <td id=\"T_74f8e_row3_col7\" class=\"data row3 col7\" >0.0100</td>\n            </tr>\n            <tr>\n                        <th id=\"T_74f8e_level0_row4\" class=\"row_heading level0 row4\" >llar</th>\n                        <td id=\"T_74f8e_row4_col0\" class=\"data row4 col0\" >Lasso Least Angle Regression</td>\n                        <td id=\"T_74f8e_row4_col1\" class=\"data row4 col1\" >2661.2071</td>\n                        <td id=\"T_74f8e_row4_col2\" class=\"data row4 col2\" >12218122.3039</td>\n                        <td id=\"T_74f8e_row4_col3\" class=\"data row4 col3\" >3173.3945</td>\n                        <td id=\"T_74f8e_row4_col4\" class=\"data row4 col4\" >-5.7150</td>\n                        <td id=\"T_74f8e_row4_col5\" class=\"data row4 col5\" >0.9310</td>\n                        <td id=\"T_74f8e_row4_col6\" class=\"data row4 col6\" >2.8810</td>\n                        <td id=\"T_74f8e_row4_col7\" class=\"data row4 col7\" >0.0124</td>\n            </tr>\n            <tr>\n                        <th id=\"T_74f8e_level0_row5\" class=\"row_heading level0 row5\" >lightgbm</th>\n                        <td id=\"T_74f8e_row5_col0\" class=\"data row5 col0\" >Light Gradient Boosting Machine</td>\n                        <td id=\"T_74f8e_row5_col1\" class=\"data row5 col1\" >2683.7535</td>\n                        <td id=\"T_74f8e_row5_col2\" class=\"data row5 col2\" >12261532.5059</td>\n                        <td id=\"T_74f8e_row5_col3\" class=\"data row5 col3\" >3192.7073</td>\n                        <td id=\"T_74f8e_row5_col4\" class=\"data row5 col4\" >-5.7740</td>\n                        <td id=\"T_74f8e_row5_col5\" class=\"data row5 col5\" >0.9358</td>\n                        <td id=\"T_74f8e_row5_col6\" class=\"data row5 col6\" >3.0338</td>\n                        <td id=\"T_74f8e_row5_col7\" class=\"data row5 col7\" >0.0279</td>\n            </tr>\n            <tr>\n                        <th id=\"T_74f8e_level0_row6\" class=\"row_heading level0 row6\" >ridge</th>\n                        <td id=\"T_74f8e_row6_col0\" class=\"data row6 col0\" >Ridge Regression</td>\n                        <td id=\"T_74f8e_row6_col1\" class=\"data row6 col1\" >2661.9896</td>\n                        <td id=\"T_74f8e_row6_col2\" class=\"data row6 col2\" >12211264.6502</td>\n                        <td id=\"T_74f8e_row6_col3\" class=\"data row6 col3\" >3173.3082</td>\n                        <td id=\"T_74f8e_row6_col4\" class=\"data row6 col4\" >-5.8719</td>\n                        <td id=\"T_74f8e_row6_col5\" class=\"data row6 col5\" >0.9308</td>\n                        <td id=\"T_74f8e_row6_col6\" class=\"data row6 col6\" >2.8897</td>\n                        <td id=\"T_74f8e_row6_col7\" class=\"data row6 col7\" >0.0107</td>\n            </tr>\n            <tr>\n                        <th id=\"T_74f8e_level0_row7\" class=\"row_heading level0 row7\" >lasso</th>\n                        <td id=\"T_74f8e_row7_col0\" class=\"data row7 col0\" >Lasso Regression</td>\n                        <td id=\"T_74f8e_row7_col1\" class=\"data row7 col1\" >2666.9802</td>\n                        <td id=\"T_74f8e_row7_col2\" class=\"data row7 col2\" >12268705.7482</td>\n                        <td id=\"T_74f8e_row7_col3\" class=\"data row7 col3\" >3181.8154</td>\n                        <td id=\"T_74f8e_row7_col4\" class=\"data row7 col4\" >-5.9636</td>\n                        <td id=\"T_74f8e_row7_col5\" class=\"data row7 col5\" >0.9319</td>\n                        <td id=\"T_74f8e_row7_col6\" class=\"data row7 col6\" >2.8595</td>\n                        <td id=\"T_74f8e_row7_col7\" class=\"data row7 col7\" >0.0124</td>\n            </tr>\n            <tr>\n                        <th id=\"T_74f8e_level0_row8\" class=\"row_heading level0 row8\" >lar</th>\n                        <td id=\"T_74f8e_row8_col0\" class=\"data row8 col0\" >Least Angle Regression</td>\n                        <td id=\"T_74f8e_row8_col1\" class=\"data row8 col1\" >2668.9301</td>\n                        <td id=\"T_74f8e_row8_col2\" class=\"data row8 col2\" >12290227.0760</td>\n                        <td id=\"T_74f8e_row8_col3\" class=\"data row8 col3\" >3184.8122</td>\n                        <td id=\"T_74f8e_row8_col4\" class=\"data row8 col4\" >-6.0302</td>\n                        <td id=\"T_74f8e_row8_col5\" class=\"data row8 col5\" >0.9321</td>\n                        <td id=\"T_74f8e_row8_col6\" class=\"data row8 col6\" >2.8483</td>\n                        <td id=\"T_74f8e_row8_col7\" class=\"data row8 col7\" >0.0129</td>\n            </tr>\n            <tr>\n                        <th id=\"T_74f8e_level0_row9\" class=\"row_heading level0 row9\" >huber</th>\n                        <td id=\"T_74f8e_row9_col0\" class=\"data row9 col0\" >Huber Regressor</td>\n                        <td id=\"T_74f8e_row9_col1\" class=\"data row9 col1\" >2638.0164</td>\n                        <td id=\"T_74f8e_row9_col2\" class=\"data row9 col2\" >12360972.8895</td>\n                        <td id=\"T_74f8e_row9_col3\" class=\"data row9 col3\" >3165.1508</td>\n                        <td id=\"T_74f8e_row9_col4\" class=\"data row9 col4\" >-6.1932</td>\n                        <td id=\"T_74f8e_row9_col5\" class=\"data row9 col5\" >0.9248</td>\n                        <td id=\"T_74f8e_row9_col6\" class=\"data row9 col6\" >2.7186</td>\n                        <td id=\"T_74f8e_row9_col7\" class=\"data row9 col7\" >0.0230</td>\n            </tr>\n            <tr>\n                        <th id=\"T_74f8e_level0_row10\" class=\"row_heading level0 row10\" >par</th>\n                        <td id=\"T_74f8e_row10_col0\" class=\"data row10 col0\" >Passive Aggressive Regressor</td>\n                        <td id=\"T_74f8e_row10_col1\" class=\"data row10 col1\" >2657.7150</td>\n                        <td id=\"T_74f8e_row10_col2\" class=\"data row10 col2\" >12608186.5829</td>\n                        <td id=\"T_74f8e_row10_col3\" class=\"data row10 col3\" >3188.8559</td>\n                        <td id=\"T_74f8e_row10_col4\" class=\"data row10 col4\" >-6.3536</td>\n                        <td id=\"T_74f8e_row10_col5\" class=\"data row10 col5\" >0.9271</td>\n                        <td id=\"T_74f8e_row10_col6\" class=\"data row10 col6\" >2.6550</td>\n                        <td id=\"T_74f8e_row10_col7\" class=\"data row10 col7\" >0.0177</td>\n            </tr>\n            <tr>\n                        <th id=\"T_74f8e_level0_row11\" class=\"row_heading level0 row11\" >lr</th>\n                        <td id=\"T_74f8e_row11_col0\" class=\"data row11 col0\" >Linear Regression</td>\n                        <td id=\"T_74f8e_row11_col1\" class=\"data row11 col1\" >2666.4379</td>\n                        <td id=\"T_74f8e_row11_col2\" class=\"data row11 col2\" >12451652.8431</td>\n                        <td id=\"T_74f8e_row11_col3\" class=\"data row11 col3\" >3183.1219</td>\n                        <td id=\"T_74f8e_row11_col4\" class=\"data row11 col4\" >-6.4351</td>\n                        <td id=\"T_74f8e_row11_col5\" class=\"data row11 col5\" >0.9362</td>\n                        <td id=\"T_74f8e_row11_col6\" class=\"data row11 col6\" >3.0239</td>\n                        <td id=\"T_74f8e_row11_col7\" class=\"data row11 col7\" >0.1085</td>\n            </tr>\n            <tr>\n                        <th id=\"T_74f8e_level0_row12\" class=\"row_heading level0 row12\" >gbr</th>\n                        <td id=\"T_74f8e_row12_col0\" class=\"data row12 col0\" >Gradient Boosting Regressor</td>\n                        <td id=\"T_74f8e_row12_col1\" class=\"data row12 col1\" >2843.5443</td>\n                        <td id=\"T_74f8e_row12_col2\" class=\"data row12 col2\" >13596722.5903</td>\n                        <td id=\"T_74f8e_row12_col3\" class=\"data row12 col3\" >3331.8100</td>\n                        <td id=\"T_74f8e_row12_col4\" class=\"data row12 col4\" >-7.4697</td>\n                        <td id=\"T_74f8e_row12_col5\" class=\"data row12 col5\" >0.9404</td>\n                        <td id=\"T_74f8e_row12_col6\" class=\"data row12 col6\" >2.6011</td>\n                        <td id=\"T_74f8e_row12_col7\" class=\"data row12 col7\" >0.0402</td>\n            </tr>\n            <tr>\n                        <th id=\"T_74f8e_level0_row13\" class=\"row_heading level0 row13\" >knn</th>\n                        <td id=\"T_74f8e_row13_col0\" class=\"data row13 col0\" >K Neighbors Regressor</td>\n                        <td id=\"T_74f8e_row13_col1\" class=\"data row13 col1\" >2880.7918</td>\n                        <td id=\"T_74f8e_row13_col2\" class=\"data row13 col2\" >13673003.6883</td>\n                        <td id=\"T_74f8e_row13_col3\" class=\"data row13 col3\" >3399.0352</td>\n                        <td id=\"T_74f8e_row13_col4\" class=\"data row13 col4\" >-8.6891</td>\n                        <td id=\"T_74f8e_row13_col5\" class=\"data row13 col5\" >0.9714</td>\n                        <td id=\"T_74f8e_row13_col6\" class=\"data row13 col6\" >3.5267</td>\n                        <td id=\"T_74f8e_row13_col7\" class=\"data row13 col7\" >0.0405</td>\n            </tr>\n            <tr>\n                        <th id=\"T_74f8e_level0_row14\" class=\"row_heading level0 row14\" >rf</th>\n                        <td id=\"T_74f8e_row14_col0\" class=\"data row14 col0\" >Random Forest Regressor</td>\n                        <td id=\"T_74f8e_row14_col1\" class=\"data row14 col1\" >3130.3356</td>\n                        <td id=\"T_74f8e_row14_col2\" class=\"data row14 col2\" >16086701.2418</td>\n                        <td id=\"T_74f8e_row14_col3\" class=\"data row14 col3\" >3661.9059</td>\n                        <td id=\"T_74f8e_row14_col4\" class=\"data row14 col4\" >-8.7994</td>\n                        <td id=\"T_74f8e_row14_col5\" class=\"data row14 col5\" >1.0167</td>\n                        <td id=\"T_74f8e_row14_col6\" class=\"data row14 col6\" >2.8875</td>\n                        <td id=\"T_74f8e_row14_col7\" class=\"data row14 col7\" >0.2591</td>\n            </tr>\n            <tr>\n                        <th id=\"T_74f8e_level0_row15\" class=\"row_heading level0 row15\" >et</th>\n                        <td id=\"T_74f8e_row15_col0\" class=\"data row15 col0\" >Extra Trees Regressor</td>\n                        <td id=\"T_74f8e_row15_col1\" class=\"data row15 col1\" >3279.2258</td>\n                        <td id=\"T_74f8e_row15_col2\" class=\"data row15 col2\" >17891293.2358</td>\n                        <td id=\"T_74f8e_row15_col3\" class=\"data row15 col3\" >3852.5053</td>\n                        <td id=\"T_74f8e_row15_col4\" class=\"data row15 col4\" >-9.7782</td>\n                        <td id=\"T_74f8e_row15_col5\" class=\"data row15 col5\" >1.0677</td>\n                        <td id=\"T_74f8e_row15_col6\" class=\"data row15 col6\" >2.8692</td>\n                        <td id=\"T_74f8e_row15_col7\" class=\"data row15 col7\" >0.2444</td>\n            </tr>\n            <tr>\n                        <th id=\"T_74f8e_level0_row16\" class=\"row_heading level0 row16\" >dt</th>\n                        <td id=\"T_74f8e_row16_col0\" class=\"data row16 col0\" >Decision Tree Regressor</td>\n                        <td id=\"T_74f8e_row16_col1\" class=\"data row16 col1\" >3281.5277</td>\n                        <td id=\"T_74f8e_row16_col2\" class=\"data row16 col2\" >17919279.7200</td>\n                        <td id=\"T_74f8e_row16_col3\" class=\"data row16 col3\" >3855.0472</td>\n                        <td id=\"T_74f8e_row16_col4\" class=\"data row16 col4\" >-9.7805</td>\n                        <td id=\"T_74f8e_row16_col5\" class=\"data row16 col5\" >1.0689</td>\n                        <td id=\"T_74f8e_row16_col6\" class=\"data row16 col6\" >2.8698</td>\n                        <td id=\"T_74f8e_row16_col7\" class=\"data row16 col7\" >0.0126</td>\n            </tr>\n    </tbody></table>"
     },
     "metadata": {}
    }
   ],
   "source": [
    "best = compare_models(fold=80)"
   ]
  },
  {
   "cell_type": "code",
   "execution_count": 6,
   "metadata": {},
   "outputs": [],
   "source": [
    "en=create_model(estimator='en',fold=150,round=4,verbose=False)"
   ]
  },
  {
   "cell_type": "code",
   "execution_count": 7,
   "metadata": {},
   "outputs": [],
   "source": [
    "tuned_en=tune_model(en,fold=150,n_iter=200,optimize='MAE',verbose=False)"
   ]
  },
  {
   "cell_type": "code",
   "execution_count": 8,
   "metadata": {},
   "outputs": [],
   "source": [
    "# bagged_br = ensemble_model(tuned_br, method = 'Bagging')\n",
    "# train a adaboost classifier on dt with 100 estimators\n",
    "further_tuned_en = ensemble_model(en,fold=100,round=4,n_estimators = 150,verbose=False)"
   ]
  },
  {
   "cell_type": "code",
   "execution_count": 9,
   "metadata": {},
   "outputs": [
    {
     "output_type": "display_data",
     "data": {
      "text/plain": "interactive(children=(ToggleButtons(description='Plot Type:', icons=('',), options=(('Hyperparameters', 'param…",
      "application/vnd.jupyter.widget-view+json": {
       "version_major": 2,
       "version_minor": 0,
       "model_id": "097d3bf5e4d14d07817a0e8481f8b512"
      }
     },
     "metadata": {}
    }
   ],
   "source": [
    "evaluate_model(further_tuned_en)"
   ]
  },
  {
   "cell_type": "code",
   "execution_count": 10,
   "metadata": {},
   "outputs": [
    {
     "output_type": "display_data",
     "data": {
      "text/plain": "<pandas.io.formats.style.Styler at 0x2b719e82e88>",
      "text/html": "<style  type=\"text/css\" >\n</style><table id=\"T_38b8c_\" ><thead>    <tr>        <th class=\"blank level0\" ></th>        <th class=\"col_heading level0 col0\" >Model</th>        <th class=\"col_heading level0 col1\" >MAE</th>        <th class=\"col_heading level0 col2\" >MSE</th>        <th class=\"col_heading level0 col3\" >RMSE</th>        <th class=\"col_heading level0 col4\" >R2</th>        <th class=\"col_heading level0 col5\" >RMSLE</th>        <th class=\"col_heading level0 col6\" >MAPE</th>    </tr></thead><tbody>\n                <tr>\n                        <th id=\"T_38b8c_level0_row0\" class=\"row_heading level0 row0\" >0</th>\n                        <td id=\"T_38b8c_row0_col0\" class=\"data row0 col0\" >Elastic Net</td>\n                        <td id=\"T_38b8c_row0_col1\" class=\"data row0 col1\" >2721.5291</td>\n                        <td id=\"T_38b8c_row0_col2\" class=\"data row0 col2\" >12389279.0000</td>\n                        <td id=\"T_38b8c_row0_col3\" class=\"data row0 col3\" >3519.8408</td>\n                        <td id=\"T_38b8c_row0_col4\" class=\"data row0 col4\" >0.0121</td>\n                        <td id=\"T_38b8c_row0_col5\" class=\"data row0 col5\" >1.1388</td>\n                        <td id=\"T_38b8c_row0_col6\" class=\"data row0 col6\" >2.4368</td>\n            </tr>\n    </tbody></table>"
     },
     "metadata": {}
    }
   ],
   "source": [
    "predicted_df= predict_model(further_tuned_en)"
   ]
  },
  {
   "cell_type": "code",
   "execution_count": 12,
   "metadata": {},
   "outputs": [
    {
     "output_type": "stream",
     "name": "stdout",
     "text": [
      "Transformation Pipeline and Model Succesfully Saved\n"
     ]
    }
   ],
   "source": [
    "finalized=finalize_model(further_tuned_en)\n",
    "stream_history_model=save_model(finalized,'./model/streamhistory_model')"
   ]
  },
  {
   "source": [
    "Testing out with the model generated"
   ],
   "cell_type": "markdown",
   "metadata": {}
  },
  {
   "cell_type": "code",
   "execution_count": 13,
   "metadata": {},
   "outputs": [
    {
     "output_type": "stream",
     "name": "stdout",
     "text": [
      "Transformation Pipeline and Model Successfully Loaded\n"
     ]
    }
   ],
   "source": [
    "history_predicted=load_model('./model/streamhistory_model')"
   ]
  },
  {
   "cell_type": "code",
   "execution_count": 15,
   "metadata": {},
   "outputs": [
    {
     "output_type": "stream",
     "name": "stdout",
     "text": [
      "<class 'dict'>\n<class 'pandas.core.frame.DataFrame'>\n<class 'pandas.core.frame.DataFrame'>\nRangeIndex: 2 entries, 0 to 1\nData columns (total 1 columns):\n #   Column  Non-Null Count  Dtype         \n---  ------  --------------  -----         \n 0   Date    2 non-null      datetime64[ns]\ndtypes: datetime64[ns](1)\nmemory usage: 144.0 bytes\n"
     ]
    }
   ],
   "source": [
    "data={\"Date\":\n",
    "            [\"21-03-2021\",\"22-05-2021\"]\n",
    "}\n",
    "print(type(data))\n",
    "data_test=pd.DataFrame(data)\n",
    "print(type(data_test))\n",
    "data_test['Date']=pd.to_datetime(data_test['Date'].astype('datetime64[D]'))\n",
    "god=pd.DataFrame(data_test['Date'])\n",
    "god.info()"
   ]
  },
  {
   "cell_type": "code",
   "execution_count": 23,
   "metadata": {},
   "outputs": [],
   "source": [
    "god=pd.DataFrame(pd.read_csv('./final_data/StreamingHistory/date_wise_history.csv'))\n",
    "prediction=predict_model(history_predicted,data=god)"
   ]
  },
  {
   "source": [
    "Visualization"
   ],
   "cell_type": "markdown",
   "metadata": {}
  },
  {
   "cell_type": "code",
   "execution_count": 40,
   "metadata": {},
   "outputs": [
    {
     "output_type": "stream",
     "name": "stdout",
     "text": [
      "<class 'pandas.core.frame.DataFrame'>\nRangeIndex: 360 entries, 0 to 359\nData columns (total 3 columns):\n #   Column         Non-Null Count  Dtype  \n---  ------         --------------  -----  \n 0   date           360 non-null    object \n 1   secondsPlayed  360 non-null    float64\n 2   Label          360 non-null    float32\ndtypes: float32(1), float64(1), object(1)\nmemory usage: 7.2+ KB\n"
     ]
    }
   ],
   "source": [
    "prediction.info()"
   ]
  },
  {
   "cell_type": "code",
   "execution_count": 36,
   "metadata": {},
   "outputs": [],
   "source": [
    "data_df=pd.DataFrame(pd.read_csv('./final_data/StreamingHistory/cleaned_date_wise.csv'))"
   ]
  },
  {
   "cell_type": "code",
   "execution_count": 37,
   "metadata": {},
   "outputs": [
    {
     "output_type": "stream",
     "name": "stdout",
     "text": [
      "<class 'pandas.core.frame.DataFrame'>\nRangeIndex: 359 entries, 0 to 358\nData columns (total 2 columns):\n #   Column         Non-Null Count  Dtype  \n---  ------         --------------  -----  \n 0   date           359 non-null    object \n 1   secondsPlayed  359 non-null    float64\ndtypes: float64(1), object(1)\nmemory usage: 5.7+ KB\n"
     ]
    }
   ],
   "source": [
    "data_df.info()"
   ]
  },
  {
   "cell_type": "code",
   "execution_count": 50,
   "metadata": {},
   "outputs": [
    {
     "output_type": "display_data",
     "data": {
      "application/vnd.plotly.v1+json": {
       "config": {
        "plotlyServerURL": "https://plot.ly"
       },
       "data": [
        {
         "hovertemplate": "date=%{x}<br>secondsPlayed=%{y}<extra></extra>",
         "legendgroup": "",
         "line": {
          "color": "#636efa",
          "dash": "solid"
         },
         "mode": "lines",
         "name": "",
         "orientation": "v",
         "showlegend": false,
         "type": "scatter",
         "x": [
          "2020-02-11",
          "2020-02-12",
          "2020-02-13",
          "2020-02-15",
          "2020-02-16",
          "2020-02-17",
          "2020-02-18",
          "2020-02-19",
          "2020-02-20",
          "2020-02-21",
          "2020-02-22",
          "2020-02-23",
          "2020-02-24",
          "2020-02-25",
          "2020-02-26",
          "2020-02-27",
          "2020-02-28",
          "2020-02-29",
          "2020-03-01",
          "2020-03-02",
          "2020-03-03",
          "2020-03-04",
          "2020-03-05",
          "2020-03-06",
          "2020-03-07",
          "2020-03-08",
          "2020-03-09",
          "2020-03-10",
          "2020-03-11",
          "2020-03-12",
          "2020-03-13",
          "2020-03-14",
          "2020-03-15",
          "2020-03-16",
          "2020-03-17",
          "2020-03-18",
          "2020-03-19",
          "2020-03-20",
          "2020-03-21",
          "2020-03-22",
          "2020-03-23",
          "2020-03-24",
          "2020-03-25",
          "2020-03-26",
          "2020-03-27",
          "2020-03-28",
          "2020-03-29",
          "2020-03-30",
          "2020-03-31",
          "2020-04-01",
          "2020-04-02",
          "2020-04-03",
          "2020-04-04",
          "2020-04-05",
          "2020-04-06",
          "2020-04-07",
          "2020-04-08",
          "2020-04-09",
          "2020-04-10",
          "2020-04-11",
          "2020-04-12",
          "2020-04-13",
          "2020-04-14",
          "2020-04-15",
          "2020-04-16",
          "2020-04-17",
          "2020-04-18",
          "2020-04-19",
          "2020-04-20",
          "2020-04-21",
          "2020-04-22",
          "2020-04-24",
          "2020-04-25",
          "2020-04-26",
          "2020-04-27",
          "2020-04-28",
          "2020-04-29",
          "2020-04-30",
          "2020-05-01",
          "2020-05-02",
          "2020-05-03",
          "2020-05-04",
          "2020-05-05",
          "2020-05-06",
          "2020-05-07",
          "2020-05-08",
          "2020-05-09",
          "2020-05-10",
          "2020-05-11",
          "2020-05-12",
          "2020-05-13",
          "2020-05-14",
          "2020-05-15",
          "2020-05-16",
          "2020-05-17",
          "2020-05-18",
          "2020-05-19",
          "2020-05-20",
          "2020-05-21",
          "2020-05-22",
          "2020-05-23",
          "2020-05-24",
          "2020-05-25",
          "2020-05-26",
          "2020-05-27",
          "2020-05-28",
          "2020-05-29",
          "2020-05-30",
          "2020-05-31",
          "2020-06-01",
          "2020-06-02",
          "2020-06-03",
          "2020-06-04",
          "2020-06-05",
          "2020-06-06",
          "2020-06-07",
          "2020-06-08",
          "2020-06-09",
          "2020-06-10",
          "2020-06-11",
          "2020-06-12",
          "2020-06-13",
          "2020-06-14",
          "2020-06-15",
          "2020-06-16",
          "2020-06-17",
          "2020-06-18",
          "2020-06-19",
          "2020-06-20",
          "2020-06-21",
          "2020-06-22",
          "2020-06-23",
          "2020-06-24",
          "2020-06-25",
          "2020-06-26",
          "2020-06-27",
          "2020-06-28",
          "2020-06-29",
          "2020-07-01",
          "2020-07-02",
          "2020-07-03",
          "2020-07-04",
          "2020-07-05",
          "2020-07-06",
          "2020-07-07",
          "2020-07-08",
          "2020-07-09",
          "2020-07-10",
          "2020-07-11",
          "2020-07-12",
          "2020-07-13",
          "2020-07-14",
          "2020-07-15",
          "2020-07-16",
          "2020-07-17",
          "2020-07-18",
          "2020-07-19",
          "2020-07-20",
          "2020-07-21",
          "2020-07-22",
          "2020-07-23",
          "2020-07-24",
          "2020-07-25",
          "2020-07-26",
          "2020-07-27",
          "2020-07-28",
          "2020-07-29",
          "2020-07-30",
          "2020-07-31",
          "2020-08-01",
          "2020-08-02",
          "2020-08-03",
          "2020-08-04",
          "2020-08-05",
          "2020-08-06",
          "2020-08-07",
          "2020-08-08",
          "2020-08-09",
          "2020-08-10",
          "2020-08-11",
          "2020-08-12",
          "2020-08-13",
          "2020-08-14",
          "2020-08-15",
          "2020-08-16",
          "2020-08-17",
          "2020-08-18",
          "2020-08-19",
          "2020-08-20",
          "2020-08-21",
          "2020-08-22",
          "2020-08-23",
          "2020-08-24",
          "2020-08-25",
          "2020-08-26",
          "2020-08-27",
          "2020-08-28",
          "2020-08-29",
          "2020-08-30",
          "2020-08-31",
          "2020-09-01",
          "2020-09-02",
          "2020-09-03",
          "2020-09-04",
          "2020-09-05",
          "2020-09-06",
          "2020-09-07",
          "2020-09-08",
          "2020-09-09",
          "2020-09-10",
          "2020-09-11",
          "2020-09-12",
          "2020-09-13",
          "2020-09-14",
          "2020-09-15",
          "2020-09-16",
          "2020-09-17",
          "2020-09-18",
          "2020-09-19",
          "2020-09-20",
          "2020-09-21",
          "2020-09-22",
          "2020-09-23",
          "2020-09-24",
          "2020-09-25",
          "2020-09-26",
          "2020-09-27",
          "2020-09-28",
          "2020-09-29",
          "2020-09-30",
          "2020-10-01",
          "2020-10-02",
          "2020-10-03",
          "2020-10-04",
          "2020-10-05",
          "2020-10-06",
          "2020-10-07",
          "2020-10-08",
          "2020-10-09",
          "2020-10-10",
          "2020-10-11",
          "2020-10-12",
          "2020-10-13",
          "2020-10-14",
          "2020-10-15",
          "2020-10-16",
          "2020-10-17",
          "2020-10-18",
          "2020-10-19",
          "2020-10-20",
          "2020-10-21",
          "2020-10-22",
          "2020-10-23",
          "2020-10-24",
          "2020-10-25",
          "2020-10-26",
          "2020-10-27",
          "2020-10-28",
          "2020-10-29",
          "2020-10-30",
          "2020-10-31",
          "2020-11-01",
          "2020-11-02",
          "2020-11-03",
          "2020-11-04",
          "2020-11-05",
          "2020-11-06",
          "2020-11-10",
          "2020-11-11",
          "2020-11-12",
          "2020-11-13",
          "2020-11-14",
          "2020-11-15",
          "2020-11-16",
          "2020-11-17",
          "2020-11-18",
          "2020-11-19",
          "2020-11-20",
          "2020-11-21",
          "2020-11-22",
          "2020-11-24",
          "2020-11-25",
          "2020-11-26",
          "2020-11-27",
          "2020-11-28",
          "2020-11-29",
          "2020-11-30",
          "2020-12-01",
          "2020-12-02",
          "2020-12-03",
          "2020-12-04",
          "2020-12-05",
          "2020-12-06",
          "2020-12-07",
          "2020-12-08",
          "2020-12-09",
          "2020-12-10",
          "2020-12-11",
          "2020-12-12",
          "2020-12-13",
          "2020-12-14",
          "2020-12-15",
          "2020-12-16",
          "2020-12-17",
          "2020-12-18",
          "2020-12-19",
          "2020-12-20",
          "2020-12-21",
          "2020-12-22",
          "2020-12-23",
          "2020-12-24",
          "2020-12-25",
          "2020-12-26",
          "2020-12-27",
          "2020-12-28",
          "2020-12-29",
          "2020-12-30",
          "2020-12-31",
          "2021-01-01",
          "2021-01-02",
          "2021-01-03",
          "2021-01-04",
          "2021-01-05",
          "2021-01-06",
          "2021-01-07",
          "2021-01-08",
          "2021-01-09",
          "2021-01-10",
          "2021-01-11",
          "2021-01-12",
          "2021-01-13",
          "2021-01-14",
          "2021-01-15",
          "2021-01-16",
          "2021-01-17",
          "2021-01-18",
          "2021-01-19",
          "2021-01-20",
          "2021-01-21",
          "2021-01-22",
          "2021-01-23",
          "2021-01-24",
          "2021-01-25",
          "2021-01-26",
          "2021-01-28",
          "2021-01-29",
          "2021-01-30",
          "2021-01-31",
          "2021-02-01",
          "2021-02-02",
          "2021-02-03",
          "2021-02-04",
          "2021-02-05",
          "2021-02-06",
          "2021-02-07",
          "2021-02-08",
          "2021-02-09",
          "2021-02-10",
          "2021-02-11",
          "2021-02-12"
         ],
         "xaxis": "x",
         "y": [
          40.95,
          3467.3819999999987,
          1589.5859999999998,
          2201.282,
          1002.88,
          2569.514999999999,
          3025.578,
          10797.305999999997,
          1216.323,
          358.208,
          9051.413000000002,
          6647.99,
          676.6209999999999,
          4105.438,
          3105.739,
          6408.952999999999,
          4751.511000000001,
          4418.854000000001,
          3268.9019999999987,
          907.3300000000002,
          856.993,
          8372.188,
          3360.121000000001,
          5584.118000000001,
          6125.149,
          480.187,
          13156.126,
          2478.5370000000003,
          353.853,
          3666.9740000000006,
          8302.896,
          6081.495000000001,
          4949.923000000001,
          745.696,
          1933.863,
          2663.8720000000008,
          1316.6539999999998,
          1228.935,
          5717.853,
          2310.409,
          1254.158,
          1429.047,
          79.6,
          9978.294999999998,
          5065.087,
          1922.3650000000005,
          2872.707,
          2344.907,
          2748.345,
          2830.749,
          99.41899999999998,
          2535.781,
          3882.842999999999,
          3030.0369999999984,
          1759.041,
          2455.895,
          1131.57,
          5746.76,
          1594.7419999999995,
          4110.235,
          798.112,
          431.3860000000001,
          6890.8550000000005,
          892.0179999999999,
          7978.679999999999,
          1111.02,
          1724.0860000000005,
          2261.555,
          541.582,
          3640.847,
          723.525,
          1577.177,
          12318.226999999988,
          5850.813,
          6733.891,
          8236.911999999998,
          8696.838,
          3154.387,
          3204.634,
          8437.988,
          1267.1180000000002,
          2804.48,
          8525.541000000001,
          7879.183000000002,
          2030.461,
          4346.674,
          9845.665999999996,
          1398.0109999999995,
          3098.93,
          4789.879000000003,
          667.012,
          5719.63,
          3824.14,
          2923.812999999999,
          874.0519999999999,
          5437.397000000002,
          2088.876,
          5707.111000000001,
          9168.091,
          5581.094,
          7286.801999999999,
          9023.554999999997,
          6862.894000000004,
          7304.202,
          3276.5280000000007,
          2184.2229999999995,
          9235.869000000004,
          458.5640000000001,
          6771.175000000002,
          3422.577999999999,
          5019.880999999999,
          6615.013,
          6869.011,
          215.519,
          3292.2330000000006,
          5402.670999999999,
          4139.143999999999,
          5530.781,
          1586.158,
          4256.273,
          2337.7570000000005,
          7458.500999999999,
          1082.85,
          604.3299999999999,
          561.5389999999999,
          3723.057,
          196.959,
          770.786,
          321.974,
          4752.9119999999975,
          4957.273999999999,
          1479.3170000000002,
          613.7479999999999,
          4162.789000000001,
          5091.188,
          7236.059000000001,
          3834.165,
          6198.226,
          6816.725999999999,
          1309.547,
          7167.596000000001,
          6365.786000000002,
          9407.766999999998,
          3589.731,
          2057.3460000000005,
          6312.791000000001,
          6241.116000000002,
          3133.0709999999995,
          272.874,
          2414.655,
          2341.365,
          1167.515,
          374.269,
          4403.269,
          9114.897,
          2804.255000000001,
          6968.435000000001,
          5941.098000000003,
          4700.537,
          4359.196000000001,
          15139.218000000008,
          4414.836999999999,
          4043.679000000001,
          424.602,
          8183.240000000002,
          8721.803000000002,
          17609.716,
          17993.092000000004,
          8208.332000000002,
          12302.750000000002,
          14416.782,
          5138.78,
          5410.430999999998,
          12595.517000000007,
          3553.128,
          5798.152,
          13531.627999999995,
          5650.576999999999,
          1125.349,
          1987.295,
          1059.56,
          1940.858,
          1105.8189999999995,
          571.2280000000001,
          5602.0610000000015,
          12806.097000000003,
          4711.056,
          2611.5470000000005,
          4565.075000000001,
          1578.0019999999995,
          1428.528,
          6724.743000000003,
          2719.4990000000003,
          8075.888,
          4366.792000000001,
          8719.051,
          3764.668,
          6848.581999999999,
          3125.441,
          2640.5019999999995,
          9629.726,
          3380.826000000001,
          12754.864000000003,
          9957.356000000003,
          6378.26,
          2998.157,
          6048.218999999999,
          4046.932,
          8843.993000000002,
          5164.476999999998,
          6248.871000000001,
          2688.6279999999992,
          7601.914000000001,
          1521.1219999999998,
          3119.235000000001,
          2356.484,
          2555.479,
          2847.8959999999997,
          3344.833,
          6445.511,
          6180.538999999999,
          6630.929000000002,
          7305.870000000002,
          4710.278,
          9240.609,
          8389.582,
          795.474,
          5193.393999999999,
          324.106,
          1996.2609999999995,
          4838.098,
          3018.588,
          3509.626,
          2485.5760000000005,
          3714.754999999999,
          8376.911,
          5679.989,
          5640.874000000001,
          5668.002,
          1602.851,
          2366.9970000000003,
          3851.874999999999,
          2820.2210000000005,
          3533.591,
          8047.575000000001,
          6092.665999999999,
          5249.609999999997,
          11962.447000000004,
          4511.633,
          10190.752,
          0.9,
          5949.644,
          4792.459,
          4685.104000000001,
          4142.758,
          3133.494,
          5062.339999999998,
          1973.837,
          589.64,
          186.371,
          297.78400000000005,
          1839.576,
          8246.935,
          11250.52,
          5316.29,
          5174.078,
          20362.22100000001,
          17050.089,
          2407.389,
          4573.214,
          6969.968000000001,
          462.08600000000007,
          4265.499,
          5573.995,
          2831.582,
          6273.292,
          5023.769000000001,
          3307.053999999999,
          4437.157999999999,
          74.076,
          1352.138,
          863.8219999999999,
          13634.064,
          2697.602,
          2384.9640000000004,
          2683.0810000000006,
          3710.562,
          1351.0080000000005,
          4051.883,
          1741.061,
          5141.326000000001,
          4501.025999999999,
          1190.3649999999998,
          6653.799999999999,
          143.889,
          615.998,
          4806.113,
          4867.111999999999,
          3164.803000000001,
          3204.261,
          5989.091999999999,
          2026.478,
          2531.262,
          5397.690000000001,
          4218.674000000001,
          5900.894000000001,
          6909.522999999994,
          11777.125,
          2359.5349999999994,
          3004.092,
          4264.458000000001,
          5495.786,
          3901.042,
          5810.453000000001,
          4108.852000000001,
          3833.036,
          10830.957,
          6704.1150000000025,
          4332.809,
          3474.5420000000004,
          5971.251000000002,
          2848.454,
          5579.2800000000025,
          4632.691000000001,
          3921.379,
          8460.364000000003,
          2144.6560000000004,
          487.466,
          4082.277999999999,
          1522.571,
          4020.434,
          1210.591,
          2081.1269999999995,
          1043.317,
          976.848,
          2147.007,
          3542.6330000000007,
          4378.563999999999,
          6048.391999999999,
          10455.215000000002,
          5495.226000000001,
          112.86,
          5469.243999999997,
          2909.001,
          3637.032,
          7931.436999999999,
          1664.7520000000002,
          28.75,
          637.0600000000001,
          5288.088000000001,
          12617.908,
          5633.914000000001,
          6884.119999999998,
          1633.002,
          5775.880000000001,
          4171.918000000001,
          10773.416999999998,
          11049.109,
          1470.927,
          6049.621
         ],
         "yaxis": "y"
        }
       ],
       "layout": {
        "legend": {
         "tracegroupgap": 0
        },
        "template": {
         "data": {
          "bar": [
           {
            "error_x": {
             "color": "#2a3f5f"
            },
            "error_y": {
             "color": "#2a3f5f"
            },
            "marker": {
             "line": {
              "color": "#E5ECF6",
              "width": 0.5
             }
            },
            "type": "bar"
           }
          ],
          "barpolar": [
           {
            "marker": {
             "line": {
              "color": "#E5ECF6",
              "width": 0.5
             }
            },
            "type": "barpolar"
           }
          ],
          "carpet": [
           {
            "aaxis": {
             "endlinecolor": "#2a3f5f",
             "gridcolor": "white",
             "linecolor": "white",
             "minorgridcolor": "white",
             "startlinecolor": "#2a3f5f"
            },
            "baxis": {
             "endlinecolor": "#2a3f5f",
             "gridcolor": "white",
             "linecolor": "white",
             "minorgridcolor": "white",
             "startlinecolor": "#2a3f5f"
            },
            "type": "carpet"
           }
          ],
          "choropleth": [
           {
            "colorbar": {
             "outlinewidth": 0,
             "ticks": ""
            },
            "type": "choropleth"
           }
          ],
          "contour": [
           {
            "colorbar": {
             "outlinewidth": 0,
             "ticks": ""
            },
            "colorscale": [
             [
              0,
              "#0d0887"
             ],
             [
              0.1111111111111111,
              "#46039f"
             ],
             [
              0.2222222222222222,
              "#7201a8"
             ],
             [
              0.3333333333333333,
              "#9c179e"
             ],
             [
              0.4444444444444444,
              "#bd3786"
             ],
             [
              0.5555555555555556,
              "#d8576b"
             ],
             [
              0.6666666666666666,
              "#ed7953"
             ],
             [
              0.7777777777777778,
              "#fb9f3a"
             ],
             [
              0.8888888888888888,
              "#fdca26"
             ],
             [
              1,
              "#f0f921"
             ]
            ],
            "type": "contour"
           }
          ],
          "contourcarpet": [
           {
            "colorbar": {
             "outlinewidth": 0,
             "ticks": ""
            },
            "type": "contourcarpet"
           }
          ],
          "heatmap": [
           {
            "colorbar": {
             "outlinewidth": 0,
             "ticks": ""
            },
            "colorscale": [
             [
              0,
              "#0d0887"
             ],
             [
              0.1111111111111111,
              "#46039f"
             ],
             [
              0.2222222222222222,
              "#7201a8"
             ],
             [
              0.3333333333333333,
              "#9c179e"
             ],
             [
              0.4444444444444444,
              "#bd3786"
             ],
             [
              0.5555555555555556,
              "#d8576b"
             ],
             [
              0.6666666666666666,
              "#ed7953"
             ],
             [
              0.7777777777777778,
              "#fb9f3a"
             ],
             [
              0.8888888888888888,
              "#fdca26"
             ],
             [
              1,
              "#f0f921"
             ]
            ],
            "type": "heatmap"
           }
          ],
          "heatmapgl": [
           {
            "colorbar": {
             "outlinewidth": 0,
             "ticks": ""
            },
            "colorscale": [
             [
              0,
              "#0d0887"
             ],
             [
              0.1111111111111111,
              "#46039f"
             ],
             [
              0.2222222222222222,
              "#7201a8"
             ],
             [
              0.3333333333333333,
              "#9c179e"
             ],
             [
              0.4444444444444444,
              "#bd3786"
             ],
             [
              0.5555555555555556,
              "#d8576b"
             ],
             [
              0.6666666666666666,
              "#ed7953"
             ],
             [
              0.7777777777777778,
              "#fb9f3a"
             ],
             [
              0.8888888888888888,
              "#fdca26"
             ],
             [
              1,
              "#f0f921"
             ]
            ],
            "type": "heatmapgl"
           }
          ],
          "histogram": [
           {
            "marker": {
             "colorbar": {
              "outlinewidth": 0,
              "ticks": ""
             }
            },
            "type": "histogram"
           }
          ],
          "histogram2d": [
           {
            "colorbar": {
             "outlinewidth": 0,
             "ticks": ""
            },
            "colorscale": [
             [
              0,
              "#0d0887"
             ],
             [
              0.1111111111111111,
              "#46039f"
             ],
             [
              0.2222222222222222,
              "#7201a8"
             ],
             [
              0.3333333333333333,
              "#9c179e"
             ],
             [
              0.4444444444444444,
              "#bd3786"
             ],
             [
              0.5555555555555556,
              "#d8576b"
             ],
             [
              0.6666666666666666,
              "#ed7953"
             ],
             [
              0.7777777777777778,
              "#fb9f3a"
             ],
             [
              0.8888888888888888,
              "#fdca26"
             ],
             [
              1,
              "#f0f921"
             ]
            ],
            "type": "histogram2d"
           }
          ],
          "histogram2dcontour": [
           {
            "colorbar": {
             "outlinewidth": 0,
             "ticks": ""
            },
            "colorscale": [
             [
              0,
              "#0d0887"
             ],
             [
              0.1111111111111111,
              "#46039f"
             ],
             [
              0.2222222222222222,
              "#7201a8"
             ],
             [
              0.3333333333333333,
              "#9c179e"
             ],
             [
              0.4444444444444444,
              "#bd3786"
             ],
             [
              0.5555555555555556,
              "#d8576b"
             ],
             [
              0.6666666666666666,
              "#ed7953"
             ],
             [
              0.7777777777777778,
              "#fb9f3a"
             ],
             [
              0.8888888888888888,
              "#fdca26"
             ],
             [
              1,
              "#f0f921"
             ]
            ],
            "type": "histogram2dcontour"
           }
          ],
          "mesh3d": [
           {
            "colorbar": {
             "outlinewidth": 0,
             "ticks": ""
            },
            "type": "mesh3d"
           }
          ],
          "parcoords": [
           {
            "line": {
             "colorbar": {
              "outlinewidth": 0,
              "ticks": ""
             }
            },
            "type": "parcoords"
           }
          ],
          "pie": [
           {
            "automargin": true,
            "type": "pie"
           }
          ],
          "scatter": [
           {
            "marker": {
             "colorbar": {
              "outlinewidth": 0,
              "ticks": ""
             }
            },
            "type": "scatter"
           }
          ],
          "scatter3d": [
           {
            "line": {
             "colorbar": {
              "outlinewidth": 0,
              "ticks": ""
             }
            },
            "marker": {
             "colorbar": {
              "outlinewidth": 0,
              "ticks": ""
             }
            },
            "type": "scatter3d"
           }
          ],
          "scattercarpet": [
           {
            "marker": {
             "colorbar": {
              "outlinewidth": 0,
              "ticks": ""
             }
            },
            "type": "scattercarpet"
           }
          ],
          "scattergeo": [
           {
            "marker": {
             "colorbar": {
              "outlinewidth": 0,
              "ticks": ""
             }
            },
            "type": "scattergeo"
           }
          ],
          "scattergl": [
           {
            "marker": {
             "colorbar": {
              "outlinewidth": 0,
              "ticks": ""
             }
            },
            "type": "scattergl"
           }
          ],
          "scattermapbox": [
           {
            "marker": {
             "colorbar": {
              "outlinewidth": 0,
              "ticks": ""
             }
            },
            "type": "scattermapbox"
           }
          ],
          "scatterpolar": [
           {
            "marker": {
             "colorbar": {
              "outlinewidth": 0,
              "ticks": ""
             }
            },
            "type": "scatterpolar"
           }
          ],
          "scatterpolargl": [
           {
            "marker": {
             "colorbar": {
              "outlinewidth": 0,
              "ticks": ""
             }
            },
            "type": "scatterpolargl"
           }
          ],
          "scatterternary": [
           {
            "marker": {
             "colorbar": {
              "outlinewidth": 0,
              "ticks": ""
             }
            },
            "type": "scatterternary"
           }
          ],
          "surface": [
           {
            "colorbar": {
             "outlinewidth": 0,
             "ticks": ""
            },
            "colorscale": [
             [
              0,
              "#0d0887"
             ],
             [
              0.1111111111111111,
              "#46039f"
             ],
             [
              0.2222222222222222,
              "#7201a8"
             ],
             [
              0.3333333333333333,
              "#9c179e"
             ],
             [
              0.4444444444444444,
              "#bd3786"
             ],
             [
              0.5555555555555556,
              "#d8576b"
             ],
             [
              0.6666666666666666,
              "#ed7953"
             ],
             [
              0.7777777777777778,
              "#fb9f3a"
             ],
             [
              0.8888888888888888,
              "#fdca26"
             ],
             [
              1,
              "#f0f921"
             ]
            ],
            "type": "surface"
           }
          ],
          "table": [
           {
            "cells": {
             "fill": {
              "color": "#EBF0F8"
             },
             "line": {
              "color": "white"
             }
            },
            "header": {
             "fill": {
              "color": "#C8D4E3"
             },
             "line": {
              "color": "white"
             }
            },
            "type": "table"
           }
          ]
         },
         "layout": {
          "annotationdefaults": {
           "arrowcolor": "#2a3f5f",
           "arrowhead": 0,
           "arrowwidth": 1
          },
          "autotypenumbers": "strict",
          "coloraxis": {
           "colorbar": {
            "outlinewidth": 0,
            "ticks": ""
           }
          },
          "colorscale": {
           "diverging": [
            [
             0,
             "#8e0152"
            ],
            [
             0.1,
             "#c51b7d"
            ],
            [
             0.2,
             "#de77ae"
            ],
            [
             0.3,
             "#f1b6da"
            ],
            [
             0.4,
             "#fde0ef"
            ],
            [
             0.5,
             "#f7f7f7"
            ],
            [
             0.6,
             "#e6f5d0"
            ],
            [
             0.7,
             "#b8e186"
            ],
            [
             0.8,
             "#7fbc41"
            ],
            [
             0.9,
             "#4d9221"
            ],
            [
             1,
             "#276419"
            ]
           ],
           "sequential": [
            [
             0,
             "#0d0887"
            ],
            [
             0.1111111111111111,
             "#46039f"
            ],
            [
             0.2222222222222222,
             "#7201a8"
            ],
            [
             0.3333333333333333,
             "#9c179e"
            ],
            [
             0.4444444444444444,
             "#bd3786"
            ],
            [
             0.5555555555555556,
             "#d8576b"
            ],
            [
             0.6666666666666666,
             "#ed7953"
            ],
            [
             0.7777777777777778,
             "#fb9f3a"
            ],
            [
             0.8888888888888888,
             "#fdca26"
            ],
            [
             1,
             "#f0f921"
            ]
           ],
           "sequentialminus": [
            [
             0,
             "#0d0887"
            ],
            [
             0.1111111111111111,
             "#46039f"
            ],
            [
             0.2222222222222222,
             "#7201a8"
            ],
            [
             0.3333333333333333,
             "#9c179e"
            ],
            [
             0.4444444444444444,
             "#bd3786"
            ],
            [
             0.5555555555555556,
             "#d8576b"
            ],
            [
             0.6666666666666666,
             "#ed7953"
            ],
            [
             0.7777777777777778,
             "#fb9f3a"
            ],
            [
             0.8888888888888888,
             "#fdca26"
            ],
            [
             1,
             "#f0f921"
            ]
           ]
          },
          "colorway": [
           "#636efa",
           "#EF553B",
           "#00cc96",
           "#ab63fa",
           "#FFA15A",
           "#19d3f3",
           "#FF6692",
           "#B6E880",
           "#FF97FF",
           "#FECB52"
          ],
          "font": {
           "color": "#2a3f5f"
          },
          "geo": {
           "bgcolor": "white",
           "lakecolor": "white",
           "landcolor": "#E5ECF6",
           "showlakes": true,
           "showland": true,
           "subunitcolor": "white"
          },
          "hoverlabel": {
           "align": "left"
          },
          "hovermode": "closest",
          "mapbox": {
           "style": "light"
          },
          "paper_bgcolor": "white",
          "plot_bgcolor": "#E5ECF6",
          "polar": {
           "angularaxis": {
            "gridcolor": "white",
            "linecolor": "white",
            "ticks": ""
           },
           "bgcolor": "#E5ECF6",
           "radialaxis": {
            "gridcolor": "white",
            "linecolor": "white",
            "ticks": ""
           }
          },
          "scene": {
           "xaxis": {
            "backgroundcolor": "#E5ECF6",
            "gridcolor": "white",
            "gridwidth": 2,
            "linecolor": "white",
            "showbackground": true,
            "ticks": "",
            "zerolinecolor": "white"
           },
           "yaxis": {
            "backgroundcolor": "#E5ECF6",
            "gridcolor": "white",
            "gridwidth": 2,
            "linecolor": "white",
            "showbackground": true,
            "ticks": "",
            "zerolinecolor": "white"
           },
           "zaxis": {
            "backgroundcolor": "#E5ECF6",
            "gridcolor": "white",
            "gridwidth": 2,
            "linecolor": "white",
            "showbackground": true,
            "ticks": "",
            "zerolinecolor": "white"
           }
          },
          "shapedefaults": {
           "line": {
            "color": "#2a3f5f"
           }
          },
          "ternary": {
           "aaxis": {
            "gridcolor": "white",
            "linecolor": "white",
            "ticks": ""
           },
           "baxis": {
            "gridcolor": "white",
            "linecolor": "white",
            "ticks": ""
           },
           "bgcolor": "#E5ECF6",
           "caxis": {
            "gridcolor": "white",
            "linecolor": "white",
            "ticks": ""
           }
          },
          "title": {
           "x": 0.05
          },
          "xaxis": {
           "automargin": true,
           "gridcolor": "white",
           "linecolor": "white",
           "ticks": "",
           "title": {
            "standoff": 15
           },
           "zerolinecolor": "white",
           "zerolinewidth": 2
          },
          "yaxis": {
           "automargin": true,
           "gridcolor": "white",
           "linecolor": "white",
           "ticks": "",
           "title": {
            "standoff": 15
           },
           "zerolinecolor": "white",
           "zerolinewidth": 2
          }
         }
        },
        "title": {
         "text": "Date Wise Data for 1 Year"
        },
        "xaxis": {
         "anchor": "y",
         "domain": [
          0,
          1
         ],
         "title": {
          "text": "date"
         }
        },
        "yaxis": {
         "anchor": "x",
         "domain": [
          0,
          1
         ],
         "title": {
          "text": "secondsPlayed"
         }
        }
       }
      }
     },
     "metadata": {}
    }
   ],
   "source": [
    "fig = px.line(prediction, x='date', y=\"secondsPlayed\",title=\"Date Wise Data for 1 Year\")\n",
    "fig.show()"
   ]
  },
  {
   "cell_type": "code",
   "execution_count": 55,
   "metadata": {},
   "outputs": [
    {
     "output_type": "execute_result",
     "data": {
      "text/plain": [
       "3497104"
      ]
     },
     "metadata": {},
     "execution_count": 55
    }
   ],
   "source": [
    "htmlfile=plotly.io.to_html(fig,full_html=False)\n",
    "file=open(\"./plotly_output/date.html\",\"w\")\n",
    "file.write(htmlfile)"
   ]
  },
  {
   "cell_type": "code",
   "execution_count": null,
   "metadata": {},
   "outputs": [],
   "source": []
  }
 ]
}