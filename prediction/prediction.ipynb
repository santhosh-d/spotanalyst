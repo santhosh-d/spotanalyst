{
 "cells": [
  {
   "cell_type": "code",
   "execution_count": 119,
   "metadata": {},
   "outputs": [],
   "source": [
    "import pandas as pd\n",
    "from pycaret.classification import *\n",
    "from pycaret.clustering import *"
   ]
  },
  {
   "cell_type": "code",
   "execution_count": 120,
   "metadata": {},
   "outputs": [
    {
     "output_type": "execute_result",
     "data": {
      "text/plain": [
       "                                            name  ... liveness\n",
       "0                Eastside (with Halsey & Khalid)  ...   0.1160\n",
       "1                             Young Dumb & Broke  ...   0.1650\n",
       "2  Sunflower - Spider-Man: Into the Spider-Verse  ...   0.0703\n",
       "3                             Lonely (feat. MAX)  ...   0.2370\n",
       "4                                        Silence  ...   0.1700\n",
       "\n",
       "[5 rows x 8 columns]"
      ],
      "text/html": "<div>\n<style scoped>\n    .dataframe tbody tr th:only-of-type {\n        vertical-align: middle;\n    }\n\n    .dataframe tbody tr th {\n        vertical-align: top;\n    }\n\n    .dataframe thead th {\n        text-align: right;\n    }\n</style>\n<table border=\"1\" class=\"dataframe\">\n  <thead>\n    <tr style=\"text-align: right;\">\n      <th></th>\n      <th>name</th>\n      <th>artist</th>\n      <th>id</th>\n      <th>danceability</th>\n      <th>loudness</th>\n      <th>speechiness</th>\n      <th>acousticness</th>\n      <th>liveness</th>\n    </tr>\n  </thead>\n  <tbody>\n    <tr>\n      <th>0</th>\n      <td>Eastside (with Halsey &amp; Khalid)</td>\n      <td>benny blanco</td>\n      <td>0d2iYfpKoM0QCKvcLCkBao</td>\n      <td>0.560</td>\n      <td>-7.648</td>\n      <td>0.3210</td>\n      <td>0.555</td>\n      <td>0.1160</td>\n    </tr>\n    <tr>\n      <th>1</th>\n      <td>Young Dumb &amp; Broke</td>\n      <td>Khalid</td>\n      <td>5Z3GHaZ6ec9bsiI5BenrbY</td>\n      <td>0.798</td>\n      <td>-6.351</td>\n      <td>0.0421</td>\n      <td>0.199</td>\n      <td>0.1650</td>\n    </tr>\n    <tr>\n      <th>2</th>\n      <td>Sunflower - Spider-Man: Into the Spider-Verse</td>\n      <td>Post Malone</td>\n      <td>3KkXRkHbMCARz0aVfEt68P</td>\n      <td>0.760</td>\n      <td>-5.574</td>\n      <td>0.0466</td>\n      <td>0.556</td>\n      <td>0.0703</td>\n    </tr>\n    <tr>\n      <th>3</th>\n      <td>Lonely (feat. MAX)</td>\n      <td>Matoma</td>\n      <td>0IL20mzbwXaGVRrcan6AOB</td>\n      <td>0.588</td>\n      <td>-4.558</td>\n      <td>0.0559</td>\n      <td>0.148</td>\n      <td>0.2370</td>\n    </tr>\n    <tr>\n      <th>4</th>\n      <td>Silence</td>\n      <td>Marshmello</td>\n      <td>7vGuf3Y35N4wmASOKLUVVU</td>\n      <td>0.520</td>\n      <td>-3.093</td>\n      <td>0.0853</td>\n      <td>0.256</td>\n      <td>0.1700</td>\n    </tr>\n  </tbody>\n</table>\n</div>"
     },
     "metadata": {},
     "execution_count": 120
    }
   ],
   "source": [
    "data=pd.DataFrame(pd.read_csv('./spotify_data/mySongsDataset.csv'))\n",
    "data.head()\n",
    "data = data.drop(['energy','valence','tempo'],axis=1)\n",
    "data.head()"
   ]
  },
  {
   "cell_type": "code",
   "execution_count": 121,
   "metadata": {},
   "outputs": [
    {
     "output_type": "stream",
     "name": "stdout",
     "text": [
      "0   -7.648\n1   -6.351\n2   -5.574\n3   -4.558\n4   -3.093\nName: loudness, dtype: float64\n0    0.521240\n1    0.617392\n2    0.674994\n3    0.750315\n4    0.858922\nName: loudness, dtype: float64\n"
     ]
    }
   ],
   "source": [
    "from sklearn import preprocessing\n",
    "loudness=data[['loudness']].values\n",
    "print(data['loudness'].head())\n",
    "min_max_scaler=preprocessing.MinMaxScaler()\n",
    "loudness_scaled=min_max_scaler.fit_transform(loudness)\n",
    "data['loudness']=pd.DataFrame(loudness_scaled)\n",
    "print(data['loudness'].head())\n"
   ]
  },
  {
   "cell_type": "code",
   "execution_count": 122,
   "metadata": {},
   "outputs": [
    {
     "output_type": "stream",
     "name": "stdout",
     "text": [
      "Transformation Pipeline and Model Successfully Loaded\n"
     ]
    }
   ],
   "source": [
    "spotanalyst=load_model('songanalysis_model')"
   ]
  },
  {
   "cell_type": "code",
   "execution_count": 123,
   "metadata": {},
   "outputs": [
    {
     "output_type": "execute_result",
     "data": {
      "text/plain": [
       "                                            name  ... liveness\n",
       "0                Eastside (with Halsey & Khalid)  ...   0.1160\n",
       "1                             Young Dumb & Broke  ...   0.1650\n",
       "2  Sunflower - Spider-Man: Into the Spider-Verse  ...   0.0703\n",
       "3                             Lonely (feat. MAX)  ...   0.2370\n",
       "4                                        Silence  ...   0.1700\n",
       "\n",
       "[5 rows x 8 columns]"
      ],
      "text/html": "<div>\n<style scoped>\n    .dataframe tbody tr th:only-of-type {\n        vertical-align: middle;\n    }\n\n    .dataframe tbody tr th {\n        vertical-align: top;\n    }\n\n    .dataframe thead th {\n        text-align: right;\n    }\n</style>\n<table border=\"1\" class=\"dataframe\">\n  <thead>\n    <tr style=\"text-align: right;\">\n      <th></th>\n      <th>name</th>\n      <th>artist</th>\n      <th>id</th>\n      <th>danceability</th>\n      <th>loudness</th>\n      <th>speechiness</th>\n      <th>acousticness</th>\n      <th>liveness</th>\n    </tr>\n  </thead>\n  <tbody>\n    <tr>\n      <th>0</th>\n      <td>Eastside (with Halsey &amp; Khalid)</td>\n      <td>benny blanco</td>\n      <td>0d2iYfpKoM0QCKvcLCkBao</td>\n      <td>0.560</td>\n      <td>0.521240</td>\n      <td>0.3210</td>\n      <td>0.555</td>\n      <td>0.1160</td>\n    </tr>\n    <tr>\n      <th>1</th>\n      <td>Young Dumb &amp; Broke</td>\n      <td>Khalid</td>\n      <td>5Z3GHaZ6ec9bsiI5BenrbY</td>\n      <td>0.798</td>\n      <td>0.617392</td>\n      <td>0.0421</td>\n      <td>0.199</td>\n      <td>0.1650</td>\n    </tr>\n    <tr>\n      <th>2</th>\n      <td>Sunflower - Spider-Man: Into the Spider-Verse</td>\n      <td>Post Malone</td>\n      <td>3KkXRkHbMCARz0aVfEt68P</td>\n      <td>0.760</td>\n      <td>0.674994</td>\n      <td>0.0466</td>\n      <td>0.556</td>\n      <td>0.0703</td>\n    </tr>\n    <tr>\n      <th>3</th>\n      <td>Lonely (feat. MAX)</td>\n      <td>Matoma</td>\n      <td>0IL20mzbwXaGVRrcan6AOB</td>\n      <td>0.588</td>\n      <td>0.750315</td>\n      <td>0.0559</td>\n      <td>0.148</td>\n      <td>0.2370</td>\n    </tr>\n    <tr>\n      <th>4</th>\n      <td>Silence</td>\n      <td>Marshmello</td>\n      <td>7vGuf3Y35N4wmASOKLUVVU</td>\n      <td>0.520</td>\n      <td>0.858922</td>\n      <td>0.0853</td>\n      <td>0.256</td>\n      <td>0.1700</td>\n    </tr>\n  </tbody>\n</table>\n</div>"
     },
     "metadata": {},
     "execution_count": 123
    }
   ],
   "source": [
    "data.head(5)"
   ]
  },
  {
   "cell_type": "code",
   "execution_count": 124,
   "metadata": {},
   "outputs": [],
   "source": [
    "predictions=predict_model(spotanalyst,data=data)"
   ]
  },
  {
   "cell_type": "code",
   "execution_count": 125,
   "metadata": {},
   "outputs": [],
   "source": [
    "# plot_model(spotanalyst)"
   ]
  },
  {
   "cell_type": "code",
   "execution_count": 126,
   "metadata": {},
   "outputs": [
    {
     "output_type": "execute_result",
     "data": {
      "text/plain": [
       "                                            name  ...    Cluster\n",
       "0                Eastside (with Halsey & Khalid)  ...  Cluster 0\n",
       "1                             Young Dumb & Broke  ...  Cluster 2\n",
       "2  Sunflower - Spider-Man: Into the Spider-Verse  ...  Cluster 0\n",
       "3                             Lonely (feat. MAX)  ...  Cluster 2\n",
       "4                                        Silence  ...  Cluster 2\n",
       "\n",
       "[5 rows x 9 columns]"
      ],
      "text/html": "<div>\n<style scoped>\n    .dataframe tbody tr th:only-of-type {\n        vertical-align: middle;\n    }\n\n    .dataframe tbody tr th {\n        vertical-align: top;\n    }\n\n    .dataframe thead th {\n        text-align: right;\n    }\n</style>\n<table border=\"1\" class=\"dataframe\">\n  <thead>\n    <tr style=\"text-align: right;\">\n      <th></th>\n      <th>name</th>\n      <th>artist</th>\n      <th>id</th>\n      <th>danceability</th>\n      <th>loudness</th>\n      <th>speechiness</th>\n      <th>acousticness</th>\n      <th>liveness</th>\n      <th>Cluster</th>\n    </tr>\n  </thead>\n  <tbody>\n    <tr>\n      <th>0</th>\n      <td>Eastside (with Halsey &amp; Khalid)</td>\n      <td>benny blanco</td>\n      <td>0d2iYfpKoM0QCKvcLCkBao</td>\n      <td>0.560</td>\n      <td>0.521240</td>\n      <td>0.3210</td>\n      <td>0.555</td>\n      <td>0.1160</td>\n      <td>Cluster 0</td>\n    </tr>\n    <tr>\n      <th>1</th>\n      <td>Young Dumb &amp; Broke</td>\n      <td>Khalid</td>\n      <td>5Z3GHaZ6ec9bsiI5BenrbY</td>\n      <td>0.798</td>\n      <td>0.617392</td>\n      <td>0.0421</td>\n      <td>0.199</td>\n      <td>0.1650</td>\n      <td>Cluster 2</td>\n    </tr>\n    <tr>\n      <th>2</th>\n      <td>Sunflower - Spider-Man: Into the Spider-Verse</td>\n      <td>Post Malone</td>\n      <td>3KkXRkHbMCARz0aVfEt68P</td>\n      <td>0.760</td>\n      <td>0.674994</td>\n      <td>0.0466</td>\n      <td>0.556</td>\n      <td>0.0703</td>\n      <td>Cluster 0</td>\n    </tr>\n    <tr>\n      <th>3</th>\n      <td>Lonely (feat. MAX)</td>\n      <td>Matoma</td>\n      <td>0IL20mzbwXaGVRrcan6AOB</td>\n      <td>0.588</td>\n      <td>0.750315</td>\n      <td>0.0559</td>\n      <td>0.148</td>\n      <td>0.2370</td>\n      <td>Cluster 2</td>\n    </tr>\n    <tr>\n      <th>4</th>\n      <td>Silence</td>\n      <td>Marshmello</td>\n      <td>7vGuf3Y35N4wmASOKLUVVU</td>\n      <td>0.520</td>\n      <td>0.858922</td>\n      <td>0.0853</td>\n      <td>0.256</td>\n      <td>0.1700</td>\n      <td>Cluster 2</td>\n    </tr>\n  </tbody>\n</table>\n</div>"
     },
     "metadata": {},
     "execution_count": 126
    }
   ],
   "source": [
    "predictions.head()"
   ]
  },
  {
   "cell_type": "code",
   "execution_count": 127,
   "metadata": {},
   "outputs": [
    {
     "output_type": "stream",
     "name": "stdout",
     "text": [
      "\nCluster 0:\n\n danceability    0.693490\nloudness        0.617985\nspeechiness     0.107590\nacousticness    0.464549\nliveness        0.145275\ndtype: float64\n\nCluster 1:\n\n danceability    0.440000\nloudness        0.377164\nspeechiness     0.037706\nacousticness    0.745375\nliveness        0.154787\ndtype: float64\n\nCluster 2:\n\n danceability    0.657545\nloudness        0.646416\nspeechiness     0.089748\nacousticness    0.129466\nliveness        0.149353\ndtype: float64\n\nCluster 3:\n\n danceability    0.587769\nloudness        0.629675\nspeechiness     0.079792\nacousticness    0.129719\nliveness        0.542154\ndtype: float64\n"
     ]
    }
   ],
   "source": [
    "print(\"\\nCluster 0:\\n\\n\",predictions[predictions['Cluster']=='Cluster 0'].mean())\n",
    "print(\"\\nCluster 1:\\n\\n\",predictions[predictions['Cluster']=='Cluster 1'].mean())\n",
    "print(\"\\nCluster 2:\\n\\n\",predictions[predictions['Cluster']=='Cluster 2'].mean())\n",
    "print(\"\\nCluster 3:\\n\\n\",predictions[predictions['Cluster']=='Cluster 3'].mean())"
   ]
  },
  {
   "cell_type": "code",
   "execution_count": 128,
   "metadata": {},
   "outputs": [
    {
     "output_type": "stream",
     "name": "stdout",
     "text": [
      "                                                name  ...    Cluster\n0                    Eastside (with Halsey & Khalid)  ...  Cluster 0\n2      Sunflower - Spider-Man: Into the Spider-Verse  ...  Cluster 0\n6                                             Closer  ...  Cluster 0\n12                                        Heat Waves  ...  Cluster 0\n28                                        Better Now  ...  Cluster 0\n34                                            Closer  ...  Cluster 0\n46                                      Shape of You  ...  Cluster 0\n72        We Don't Talk Anymore (feat. Selena Gomez)  ...  Cluster 0\n74                     We Will Rock You - Remastered  ...  Cluster 0\n75                                 What Do You Mean?  ...  Cluster 0\n92           Rockabye (feat. Sean Paul & Anne-Marie)  ...  Cluster 0\n93                                      Ruin My Life  ...  Cluster 0\n95                See You Again (feat. Charlie Puth)  ...  Cluster 0\n97                                        Sin Pijama  ...  Cluster 0\n103                                Perfect Strangers  ...  Cluster 0\n107                                       Not Afraid  ...  Cluster 0\n112                                        Mistletoe  ...  Cluster 0\n113                                        Moonlight  ...  Cluster 0\n114                             Koodamela Koodavechi  ...  Cluster 0\n117                            Unakkenna Venum Sollu  ...  Cluster 0\n119                 Mazhaiye Mazhaiye (From \"Eeram\")  ...  Cluster 0\n121                                Un Mele Oru Kannu  ...  Cluster 0\n124                                   Kalyana Vayasu  ...  Cluster 0\n129                                       Yaarumilla  ...  Cluster 0\n133                              Kandaangi Kandaangi  ...  Cluster 0\n136                                       Ei Suzhali  ...  Cluster 0\n137                                    Bhoomi Bhoomi  ...  Cluster 0\n141                                       Senjitaley  ...  Cluster 0\n144                       Marana Mass - From \"Petta\"  ...  Cluster 0\n147                                Vaadi Pulla Vaadi  ...  Cluster 0\n149                                          Nannare  ...  Cluster 0\n155                              Vaayadi Petha Pulla  ...  Cluster 0\n157                    Thangachi Song (Anabelle Pei)  ...  Cluster 0\n158                                Nee Mattum Podhum  ...  Cluster 0\n160                                     Chella Kutti  ...  Cluster 0\n161                                     Mudhal Murai  ...  Cluster 0\n164                                           Yaanji  ...  Cluster 0\n168         Sodakku (From \"Thaanaa Serndha Koottam\")  ...  Cluster 0\n174                    Selfie Pulla (From \"Kaththi\")  ...  Cluster 0\n177                                  Meesaya Murukku  ...  Cluster 0\n181                                     Nenjae Yezhu  ...  Cluster 0\n184              Enna Solla - The New Life of Tamizh  ...  Cluster 0\n186                                  Unnaale Unnaale  ...  Cluster 0\n188                           Yennai Maatrum Kadhale  ...  Cluster 0\n201                                           Neeyae  ...  Cluster 0\n202  Yaenadi (From \"Adhagappattathu Magajanangalay\")  ...  Cluster 0\n203                         Ullaallaa - From \"Petta\"  ...  Cluster 0\n207                                    Otha Sollaala  ...  Cluster 0\n210                                      Omana Penne  ...  Cluster 0\n212                                        Thangamey  ...  Cluster 0\n\n[50 rows x 9 columns]\n"
     ]
    }
   ],
   "source": [
    "print(predictions[predictions['Cluster']=='Cluster 0'].head(50))\n",
    "#Cheerful"
   ]
  },
  {
   "cell_type": "code",
   "execution_count": 129,
   "metadata": {},
   "outputs": [
    {
     "output_type": "stream",
     "name": "stdout",
     "text": [
      "                                  name  ...    Cluster\n108                       Never Enough  ...  Cluster 1\n115                    Moongil Thottam  ...  Cluster 1\n116                          En Jeevan  ...  Cluster 1\n123                    Pookkal Pookkum  ...  Cluster 1\n125                        Yathe Yathe  ...  Cluster 1\n126                         Nenjukkule  ...  Cluster 1\n127                  Saayndhu Saayndhu  ...  Cluster 1\n146  Ilamai Thirumbudhe - From \"Petta\"  ...  Cluster 1\n150                             Yaayum  ...  Cluster 1\n152                         Mannipaaya  ...  Cluster 1\n156         Idhayam Love (Megamo Aval)  ...  Cluster 1\n167                             Malare  ...  Cluster 1\n195                      Avalum Naanum  ...  Cluster 1\n204                        Pullinangal  ...  Cluster 1\n206                       Nallai Allai  ...  Cluster 1\n211                            Naan Un  ...  Cluster 1\n\n[16 rows x 9 columns]\n"
     ]
    }
   ],
   "source": [
    "print(predictions[predictions['Cluster']=='Cluster 1'].head(50))\n",
    "#Romantic"
   ]
  },
  {
   "cell_type": "code",
   "execution_count": 130,
   "metadata": {},
   "outputs": [
    {
     "output_type": "stream",
     "name": "stdout",
     "text": [
      "                                                 name  ...    Cluster\n1                                  Young Dumb & Broke  ...  Cluster 2\n3                                  Lonely (feat. MAX)  ...  Cluster 2\n4                                             Silence  ...  Cluster 2\n5                       Symphony (feat. Zara Larsson)  ...  Cluster 2\n7                                             Sixteen  ...  Cluster 2\n8                                          Without Me  ...  Cluster 2\n9                                            Memories  ...  Cluster 2\n10               What's Up Danger (with Black Caviar)  ...  Cluster 2\n13                    Love Me Less (feat. Quinn XCII)  ...  Cluster 2\n14                                          All Night  ...  Cluster 2\n15                                              Alone  ...  Cluster 2\n16                                              Alone  ...  Cluster 2\n17                             As Long as You Love Me  ...  Cluster 2\n18                                          Attention  ...  Cluster 2\n19                                       The Avengers  ...  Cluster 2\n20                                               Baby  ...  Cluster 2\n21  Back To You - From 13 Reasons Why – Season 2 S...  ...  Cluster 2\n23                                           Bad Liar  ...  Cluster 2\n24                   Bad Things (with Camila Cabello)  ...  Cluster 2\n25                                             Batman  ...  Cluster 2\n26                                           Believer  ...  Cluster 2\n27  Best Friend (feat. NERVO, The Knocks & ALISA U...  ...  Cluster 2\n29                                        Blank Space  ...  Cluster 2\n30                                       Bom Bidi Bom  ...  Cluster 2\n31                                    Capital Letters  ...  Cluster 2\n32                                             Chains  ...  Cluster 2\n33                    Cheap Thrills (feat. Sean Paul)  ...  Cluster 2\n35                                         Come Alive  ...  Cluster 2\n36                         Complicated (feat. Kiiara)  ...  Cluster 2\n37                Cross My Mind, Pt. 2 (feat. Kiiara)  ...  Cluster 2\n38                                          Deadcrush  ...  Cluster 2\n39                                           Delicate  ...  Cluster 2\n40                                  Despacito - Remix  ...  Cluster 2\n41                                  Don't Let Me Down  ...  Cluster 2\n42                                           End Game  ...  Cluster 2\n43                                             Energy  ...  Cluster 2\n44                                            Thunder  ...  Cluster 2\n45                               Just the Way You Are  ...  Cluster 2\n47                           Something Just Like This  ...  Cluster 2\n48                                            Love Me  ...  Cluster 2\n49                     Uptown Funk (feat. Bruno Mars)  ...  Cluster 2\n50                                                 Up  ...  Cluster 2\n51                                    Never Say Never  ...  Cluster 2\n52                          Havana (feat. Young Thug)  ...  Cluster 2\n53                                  The Greatest Show  ...  Cluster 2\n54                                   A Million Dreams  ...  Cluster 2\n55                                     The Other Side  ...  Cluster 2\n56                                          Tightrope  ...  Cluster 2\n59                                  That Should Be Me  ...  Cluster 2\n60                                            Starboy  ...  Cluster 2\n\n[50 rows x 9 columns]\n"
     ]
    }
   ],
   "source": [
    "print(predictions[predictions['Cluster']=='Cluster 2'].head(50))\n",
    "#Energetic"
   ]
  },
  {
   "cell_type": "code",
   "execution_count": 131,
   "metadata": {},
   "outputs": [
    {
     "output_type": "stream",
     "name": "stdout",
     "text": [
      "                               name               artist  ... liveness    Cluster\n11                  Save Your Tears           The Weeknd  ...    0.543  Cluster 3\n22           As Long As You Love Me        Justin Bieber  ...    0.361  Cluster 3\n57                Rewrite The Stars         James Arthur  ...    0.465  Cluster 3\n58                The Greatest Show  Panic! At The Disco  ...    0.382  Cluster 3\n110                            Mine                Bazzi  ...    0.451  Cluster 3\n111                   Míol Mór Mara             Outsider  ...    0.280  Cluster 3\n138                            Aval   Santhosh Narayanan  ...    0.433  Cluster 3\n172  Pakkam Vanthu (From \"Kaththi\")  Anirudh Ravichander  ...    0.639  Cluster 3\n175          Aathi (From \"Kaththi\")  Anirudh Ravichander  ...    0.685  Cluster 3\n182               Nadhiyae Nadhiyae           Unni Menon  ...    0.942  Cluster 3\n183                          Hayati          A.R. Rahman  ...    0.933  Cluster 3\n194                        Showkali          A.R. Rahman  ...    0.573  Cluster 3\n197                 Mental Manadhil          A.R. Rahman  ...    0.361  Cluster 3\n\n[13 rows x 9 columns]\n"
     ]
    }
   ],
   "source": [
    "print(predictions[predictions['Cluster']=='Cluster 3'].head(50))\n",
    "#Chill"
   ]
  },
  {
   "cell_type": "code",
   "execution_count": 132,
   "metadata": {},
   "outputs": [],
   "source": [
    "predictions[\"Cluster\"].replace([\"Cluster 0\",\"Cluster 1\",\"Cluster 2\",\"Cluster 3\"],[\"Cheerful\",\"Romantic\",\"Energetic\",\"Chill\"],inplace=True)"
   ]
  },
  {
   "cell_type": "code",
   "execution_count": 139,
   "metadata": {},
   "outputs": [
    {
     "output_type": "stream",
     "name": "stdout",
     "text": [
      "     Cluster No. of Songs\n0  Energetic          134\n1   Cheerful           51\n2   Romantic           16\n3      Chill           13\n"
     ]
    }
   ],
   "source": [
    "plot_df = pd.DataFrame(predictions[\"Cluster\"].value_counts().reset_index().values, columns=[\"Cluster\", \"No. of Songs\"])\n",
    "print(plot_df.head())"
   ]
  },
  {
   "cell_type": "code",
   "execution_count": 140,
   "metadata": {},
   "outputs": [
    {
     "output_type": "display_data",
     "data": {
      "application/vnd.plotly.v1+json": {
       "config": {
        "plotlyServerURL": "https://plot.ly"
       },
       "data": [
        {
         "domain": {
          "x": [
           0,
           1
          ],
          "y": [
           0,
           1
          ]
         },
         "hovertemplate": "Cluster=%{label}<br>No. of Songs=%{value}<extra></extra>",
         "labels": [
          "Energetic",
          "Cheerful",
          "Romantic",
          "Chill"
         ],
         "legendgroup": "",
         "name": "",
         "showlegend": true,
         "type": "pie",
         "values": [
          134,
          51,
          16,
          13
         ]
        }
       ],
       "layout": {
        "legend": {
         "tracegroupgap": 0
        },
        "margin": {
         "t": 60
        },
        "template": {
         "data": {
          "bar": [
           {
            "error_x": {
             "color": "#2a3f5f"
            },
            "error_y": {
             "color": "#2a3f5f"
            },
            "marker": {
             "line": {
              "color": "#E5ECF6",
              "width": 0.5
             }
            },
            "type": "bar"
           }
          ],
          "barpolar": [
           {
            "marker": {
             "line": {
              "color": "#E5ECF6",
              "width": 0.5
             }
            },
            "type": "barpolar"
           }
          ],
          "carpet": [
           {
            "aaxis": {
             "endlinecolor": "#2a3f5f",
             "gridcolor": "white",
             "linecolor": "white",
             "minorgridcolor": "white",
             "startlinecolor": "#2a3f5f"
            },
            "baxis": {
             "endlinecolor": "#2a3f5f",
             "gridcolor": "white",
             "linecolor": "white",
             "minorgridcolor": "white",
             "startlinecolor": "#2a3f5f"
            },
            "type": "carpet"
           }
          ],
          "choropleth": [
           {
            "colorbar": {
             "outlinewidth": 0,
             "ticks": ""
            },
            "type": "choropleth"
           }
          ],
          "contour": [
           {
            "colorbar": {
             "outlinewidth": 0,
             "ticks": ""
            },
            "colorscale": [
             [
              0,
              "#0d0887"
             ],
             [
              0.1111111111111111,
              "#46039f"
             ],
             [
              0.2222222222222222,
              "#7201a8"
             ],
             [
              0.3333333333333333,
              "#9c179e"
             ],
             [
              0.4444444444444444,
              "#bd3786"
             ],
             [
              0.5555555555555556,
              "#d8576b"
             ],
             [
              0.6666666666666666,
              "#ed7953"
             ],
             [
              0.7777777777777778,
              "#fb9f3a"
             ],
             [
              0.8888888888888888,
              "#fdca26"
             ],
             [
              1,
              "#f0f921"
             ]
            ],
            "type": "contour"
           }
          ],
          "contourcarpet": [
           {
            "colorbar": {
             "outlinewidth": 0,
             "ticks": ""
            },
            "type": "contourcarpet"
           }
          ],
          "heatmap": [
           {
            "colorbar": {
             "outlinewidth": 0,
             "ticks": ""
            },
            "colorscale": [
             [
              0,
              "#0d0887"
             ],
             [
              0.1111111111111111,
              "#46039f"
             ],
             [
              0.2222222222222222,
              "#7201a8"
             ],
             [
              0.3333333333333333,
              "#9c179e"
             ],
             [
              0.4444444444444444,
              "#bd3786"
             ],
             [
              0.5555555555555556,
              "#d8576b"
             ],
             [
              0.6666666666666666,
              "#ed7953"
             ],
             [
              0.7777777777777778,
              "#fb9f3a"
             ],
             [
              0.8888888888888888,
              "#fdca26"
             ],
             [
              1,
              "#f0f921"
             ]
            ],
            "type": "heatmap"
           }
          ],
          "heatmapgl": [
           {
            "colorbar": {
             "outlinewidth": 0,
             "ticks": ""
            },
            "colorscale": [
             [
              0,
              "#0d0887"
             ],
             [
              0.1111111111111111,
              "#46039f"
             ],
             [
              0.2222222222222222,
              "#7201a8"
             ],
             [
              0.3333333333333333,
              "#9c179e"
             ],
             [
              0.4444444444444444,
              "#bd3786"
             ],
             [
              0.5555555555555556,
              "#d8576b"
             ],
             [
              0.6666666666666666,
              "#ed7953"
             ],
             [
              0.7777777777777778,
              "#fb9f3a"
             ],
             [
              0.8888888888888888,
              "#fdca26"
             ],
             [
              1,
              "#f0f921"
             ]
            ],
            "type": "heatmapgl"
           }
          ],
          "histogram": [
           {
            "marker": {
             "colorbar": {
              "outlinewidth": 0,
              "ticks": ""
             }
            },
            "type": "histogram"
           }
          ],
          "histogram2d": [
           {
            "colorbar": {
             "outlinewidth": 0,
             "ticks": ""
            },
            "colorscale": [
             [
              0,
              "#0d0887"
             ],
             [
              0.1111111111111111,
              "#46039f"
             ],
             [
              0.2222222222222222,
              "#7201a8"
             ],
             [
              0.3333333333333333,
              "#9c179e"
             ],
             [
              0.4444444444444444,
              "#bd3786"
             ],
             [
              0.5555555555555556,
              "#d8576b"
             ],
             [
              0.6666666666666666,
              "#ed7953"
             ],
             [
              0.7777777777777778,
              "#fb9f3a"
             ],
             [
              0.8888888888888888,
              "#fdca26"
             ],
             [
              1,
              "#f0f921"
             ]
            ],
            "type": "histogram2d"
           }
          ],
          "histogram2dcontour": [
           {
            "colorbar": {
             "outlinewidth": 0,
             "ticks": ""
            },
            "colorscale": [
             [
              0,
              "#0d0887"
             ],
             [
              0.1111111111111111,
              "#46039f"
             ],
             [
              0.2222222222222222,
              "#7201a8"
             ],
             [
              0.3333333333333333,
              "#9c179e"
             ],
             [
              0.4444444444444444,
              "#bd3786"
             ],
             [
              0.5555555555555556,
              "#d8576b"
             ],
             [
              0.6666666666666666,
              "#ed7953"
             ],
             [
              0.7777777777777778,
              "#fb9f3a"
             ],
             [
              0.8888888888888888,
              "#fdca26"
             ],
             [
              1,
              "#f0f921"
             ]
            ],
            "type": "histogram2dcontour"
           }
          ],
          "mesh3d": [
           {
            "colorbar": {
             "outlinewidth": 0,
             "ticks": ""
            },
            "type": "mesh3d"
           }
          ],
          "parcoords": [
           {
            "line": {
             "colorbar": {
              "outlinewidth": 0,
              "ticks": ""
             }
            },
            "type": "parcoords"
           }
          ],
          "pie": [
           {
            "automargin": true,
            "type": "pie"
           }
          ],
          "scatter": [
           {
            "marker": {
             "colorbar": {
              "outlinewidth": 0,
              "ticks": ""
             }
            },
            "type": "scatter"
           }
          ],
          "scatter3d": [
           {
            "line": {
             "colorbar": {
              "outlinewidth": 0,
              "ticks": ""
             }
            },
            "marker": {
             "colorbar": {
              "outlinewidth": 0,
              "ticks": ""
             }
            },
            "type": "scatter3d"
           }
          ],
          "scattercarpet": [
           {
            "marker": {
             "colorbar": {
              "outlinewidth": 0,
              "ticks": ""
             }
            },
            "type": "scattercarpet"
           }
          ],
          "scattergeo": [
           {
            "marker": {
             "colorbar": {
              "outlinewidth": 0,
              "ticks": ""
             }
            },
            "type": "scattergeo"
           }
          ],
          "scattergl": [
           {
            "marker": {
             "colorbar": {
              "outlinewidth": 0,
              "ticks": ""
             }
            },
            "type": "scattergl"
           }
          ],
          "scattermapbox": [
           {
            "marker": {
             "colorbar": {
              "outlinewidth": 0,
              "ticks": ""
             }
            },
            "type": "scattermapbox"
           }
          ],
          "scatterpolar": [
           {
            "marker": {
             "colorbar": {
              "outlinewidth": 0,
              "ticks": ""
             }
            },
            "type": "scatterpolar"
           }
          ],
          "scatterpolargl": [
           {
            "marker": {
             "colorbar": {
              "outlinewidth": 0,
              "ticks": ""
             }
            },
            "type": "scatterpolargl"
           }
          ],
          "scatterternary": [
           {
            "marker": {
             "colorbar": {
              "outlinewidth": 0,
              "ticks": ""
             }
            },
            "type": "scatterternary"
           }
          ],
          "surface": [
           {
            "colorbar": {
             "outlinewidth": 0,
             "ticks": ""
            },
            "colorscale": [
             [
              0,
              "#0d0887"
             ],
             [
              0.1111111111111111,
              "#46039f"
             ],
             [
              0.2222222222222222,
              "#7201a8"
             ],
             [
              0.3333333333333333,
              "#9c179e"
             ],
             [
              0.4444444444444444,
              "#bd3786"
             ],
             [
              0.5555555555555556,
              "#d8576b"
             ],
             [
              0.6666666666666666,
              "#ed7953"
             ],
             [
              0.7777777777777778,
              "#fb9f3a"
             ],
             [
              0.8888888888888888,
              "#fdca26"
             ],
             [
              1,
              "#f0f921"
             ]
            ],
            "type": "surface"
           }
          ],
          "table": [
           {
            "cells": {
             "fill": {
              "color": "#EBF0F8"
             },
             "line": {
              "color": "white"
             }
            },
            "header": {
             "fill": {
              "color": "#C8D4E3"
             },
             "line": {
              "color": "white"
             }
            },
            "type": "table"
           }
          ]
         },
         "layout": {
          "annotationdefaults": {
           "arrowcolor": "#2a3f5f",
           "arrowhead": 0,
           "arrowwidth": 1
          },
          "autotypenumbers": "strict",
          "coloraxis": {
           "colorbar": {
            "outlinewidth": 0,
            "ticks": ""
           }
          },
          "colorscale": {
           "diverging": [
            [
             0,
             "#8e0152"
            ],
            [
             0.1,
             "#c51b7d"
            ],
            [
             0.2,
             "#de77ae"
            ],
            [
             0.3,
             "#f1b6da"
            ],
            [
             0.4,
             "#fde0ef"
            ],
            [
             0.5,
             "#f7f7f7"
            ],
            [
             0.6,
             "#e6f5d0"
            ],
            [
             0.7,
             "#b8e186"
            ],
            [
             0.8,
             "#7fbc41"
            ],
            [
             0.9,
             "#4d9221"
            ],
            [
             1,
             "#276419"
            ]
           ],
           "sequential": [
            [
             0,
             "#0d0887"
            ],
            [
             0.1111111111111111,
             "#46039f"
            ],
            [
             0.2222222222222222,
             "#7201a8"
            ],
            [
             0.3333333333333333,
             "#9c179e"
            ],
            [
             0.4444444444444444,
             "#bd3786"
            ],
            [
             0.5555555555555556,
             "#d8576b"
            ],
            [
             0.6666666666666666,
             "#ed7953"
            ],
            [
             0.7777777777777778,
             "#fb9f3a"
            ],
            [
             0.8888888888888888,
             "#fdca26"
            ],
            [
             1,
             "#f0f921"
            ]
           ],
           "sequentialminus": [
            [
             0,
             "#0d0887"
            ],
            [
             0.1111111111111111,
             "#46039f"
            ],
            [
             0.2222222222222222,
             "#7201a8"
            ],
            [
             0.3333333333333333,
             "#9c179e"
            ],
            [
             0.4444444444444444,
             "#bd3786"
            ],
            [
             0.5555555555555556,
             "#d8576b"
            ],
            [
             0.6666666666666666,
             "#ed7953"
            ],
            [
             0.7777777777777778,
             "#fb9f3a"
            ],
            [
             0.8888888888888888,
             "#fdca26"
            ],
            [
             1,
             "#f0f921"
            ]
           ]
          },
          "colorway": [
           "#636efa",
           "#EF553B",
           "#00cc96",
           "#ab63fa",
           "#FFA15A",
           "#19d3f3",
           "#FF6692",
           "#B6E880",
           "#FF97FF",
           "#FECB52"
          ],
          "font": {
           "color": "#2a3f5f"
          },
          "geo": {
           "bgcolor": "white",
           "lakecolor": "white",
           "landcolor": "#E5ECF6",
           "showlakes": true,
           "showland": true,
           "subunitcolor": "white"
          },
          "hoverlabel": {
           "align": "left"
          },
          "hovermode": "closest",
          "mapbox": {
           "style": "light"
          },
          "paper_bgcolor": "white",
          "plot_bgcolor": "#E5ECF6",
          "polar": {
           "angularaxis": {
            "gridcolor": "white",
            "linecolor": "white",
            "ticks": ""
           },
           "bgcolor": "#E5ECF6",
           "radialaxis": {
            "gridcolor": "white",
            "linecolor": "white",
            "ticks": ""
           }
          },
          "scene": {
           "xaxis": {
            "backgroundcolor": "#E5ECF6",
            "gridcolor": "white",
            "gridwidth": 2,
            "linecolor": "white",
            "showbackground": true,
            "ticks": "",
            "zerolinecolor": "white"
           },
           "yaxis": {
            "backgroundcolor": "#E5ECF6",
            "gridcolor": "white",
            "gridwidth": 2,
            "linecolor": "white",
            "showbackground": true,
            "ticks": "",
            "zerolinecolor": "white"
           },
           "zaxis": {
            "backgroundcolor": "#E5ECF6",
            "gridcolor": "white",
            "gridwidth": 2,
            "linecolor": "white",
            "showbackground": true,
            "ticks": "",
            "zerolinecolor": "white"
           }
          },
          "shapedefaults": {
           "line": {
            "color": "#2a3f5f"
           }
          },
          "ternary": {
           "aaxis": {
            "gridcolor": "white",
            "linecolor": "white",
            "ticks": ""
           },
           "baxis": {
            "gridcolor": "white",
            "linecolor": "white",
            "ticks": ""
           },
           "bgcolor": "#E5ECF6",
           "caxis": {
            "gridcolor": "white",
            "linecolor": "white",
            "ticks": ""
           }
          },
          "title": {
           "x": 0.05
          },
          "xaxis": {
           "automargin": true,
           "gridcolor": "white",
           "linecolor": "white",
           "ticks": "",
           "title": {
            "standoff": 15
           },
           "zerolinecolor": "white",
           "zerolinewidth": 2
          },
          "yaxis": {
           "automargin": true,
           "gridcolor": "white",
           "linecolor": "white",
           "ticks": "",
           "title": {
            "standoff": 15
           },
           "zerolinecolor": "white",
           "zerolinewidth": 2
          }
         }
        }
       }
      }
     },
     "metadata": {}
    }
   ],
   "source": [
    "import plotly.express as px\n",
    "# This dataframe has 244 lines, but 4 distinct values for `day`\n",
    "# value1=pd.Dataframe(predictions[\"Cluster\"].value_counts)\n",
    "# df = px.plot_\n",
    "fig = px.pie(plot_df, values=\"No. of Songs\", names='Cluster')\n",
    "fig.show()"
   ]
  },
  {
   "cell_type": "code",
   "execution_count": null,
   "metadata": {},
   "outputs": [],
   "source": []
  },
  {
   "cell_type": "code",
   "execution_count": null,
   "metadata": {},
   "outputs": [],
   "source": []
  }
 ],
 "metadata": {
  "kernelspec": {
   "name": "python379jvsc74a57bd0f0a871581a008f9484cd9f91783a53466b88136a8385a870e585a87e0d1d3998",
   "display_name": "Python 3.7.9 64-bit"
  },
  "language_info": {
   "codemirror_mode": {
    "name": "ipython",
    "version": 3
   },
   "file_extension": ".py",
   "mimetype": "text/x-python",
   "name": "python",
   "nbconvert_exporter": "python",
   "pygments_lexer": "ipython3",
   "version": "3.7.9"
  },
  "metadata": {
   "interpreter": {
    "hash": "f0a871581a008f9484cd9f91783a53466b88136a8385a870e585a87e0d1d3998"
   }
  }
 },
 "nbformat": 4,
 "nbformat_minor": 2
}