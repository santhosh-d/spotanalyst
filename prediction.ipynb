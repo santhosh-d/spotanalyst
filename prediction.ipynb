{
 "metadata": {
  "language_info": {
   "codemirror_mode": {
    "name": "ipython",
    "version": 3
   },
   "file_extension": ".py",
   "mimetype": "text/x-python",
   "name": "python",
   "nbconvert_exporter": "python",
   "pygments_lexer": "ipython3",
   "version": "3.7.9-final"
  },
  "orig_nbformat": 2,
  "kernelspec": {
   "name": "python379jvsc74a57bd0f0a871581a008f9484cd9f91783a53466b88136a8385a870e585a87e0d1d3998",
   "display_name": "Python 3.7.9 64-bit"
  },
  "metadata": {
   "interpreter": {
    "hash": "f0a871581a008f9484cd9f91783a53466b88136a8385a870e585a87e0d1d3998"
   }
  }
 },
 "nbformat": 4,
 "nbformat_minor": 2,
 "cells": [
  {
   "cell_type": "code",
   "execution_count": 1,
   "metadata": {},
   "outputs": [],
   "source": [
    "import pandas as pd\n",
    "from pycaret.classification import *"
   ]
  },
  {
   "cell_type": "code",
   "execution_count": 2,
   "metadata": {},
   "outputs": [
    {
     "output_type": "execute_result",
     "data": {
      "text/plain": [
       "                                            name        artist  \\\n",
       "0                Eastside (with Halsey & Khalid)  benny blanco   \n",
       "1                             Young Dumb & Broke        Khalid   \n",
       "2  Sunflower - Spider-Man: Into the Spider-Verse   Post Malone   \n",
       "3                             Lonely (feat. MAX)        Matoma   \n",
       "4                                        Silence    Marshmello   \n",
       "\n",
       "                       id  danceability  loudness  speechiness  acousticness  \\\n",
       "0  0d2iYfpKoM0QCKvcLCkBao         0.560    -7.648       0.3210         0.555   \n",
       "1  5Z3GHaZ6ec9bsiI5BenrbY         0.798    -6.351       0.0421         0.199   \n",
       "2  3KkXRkHbMCARz0aVfEt68P         0.760    -5.574       0.0466         0.556   \n",
       "3  0IL20mzbwXaGVRrcan6AOB         0.588    -4.558       0.0559         0.148   \n",
       "4  7vGuf3Y35N4wmASOKLUVVU         0.520    -3.093       0.0853         0.256   \n",
       "\n",
       "   liveness  \n",
       "0    0.1160  \n",
       "1    0.1650  \n",
       "2    0.0703  \n",
       "3    0.2370  \n",
       "4    0.1700  "
      ],
      "text/html": "<div>\n<style scoped>\n    .dataframe tbody tr th:only-of-type {\n        vertical-align: middle;\n    }\n\n    .dataframe tbody tr th {\n        vertical-align: top;\n    }\n\n    .dataframe thead th {\n        text-align: right;\n    }\n</style>\n<table border=\"1\" class=\"dataframe\">\n  <thead>\n    <tr style=\"text-align: right;\">\n      <th></th>\n      <th>name</th>\n      <th>artist</th>\n      <th>id</th>\n      <th>danceability</th>\n      <th>loudness</th>\n      <th>speechiness</th>\n      <th>acousticness</th>\n      <th>liveness</th>\n    </tr>\n  </thead>\n  <tbody>\n    <tr>\n      <th>0</th>\n      <td>Eastside (with Halsey &amp; Khalid)</td>\n      <td>benny blanco</td>\n      <td>0d2iYfpKoM0QCKvcLCkBao</td>\n      <td>0.560</td>\n      <td>-7.648</td>\n      <td>0.3210</td>\n      <td>0.555</td>\n      <td>0.1160</td>\n    </tr>\n    <tr>\n      <th>1</th>\n      <td>Young Dumb &amp; Broke</td>\n      <td>Khalid</td>\n      <td>5Z3GHaZ6ec9bsiI5BenrbY</td>\n      <td>0.798</td>\n      <td>-6.351</td>\n      <td>0.0421</td>\n      <td>0.199</td>\n      <td>0.1650</td>\n    </tr>\n    <tr>\n      <th>2</th>\n      <td>Sunflower - Spider-Man: Into the Spider-Verse</td>\n      <td>Post Malone</td>\n      <td>3KkXRkHbMCARz0aVfEt68P</td>\n      <td>0.760</td>\n      <td>-5.574</td>\n      <td>0.0466</td>\n      <td>0.556</td>\n      <td>0.0703</td>\n    </tr>\n    <tr>\n      <th>3</th>\n      <td>Lonely (feat. MAX)</td>\n      <td>Matoma</td>\n      <td>0IL20mzbwXaGVRrcan6AOB</td>\n      <td>0.588</td>\n      <td>-4.558</td>\n      <td>0.0559</td>\n      <td>0.148</td>\n      <td>0.2370</td>\n    </tr>\n    <tr>\n      <th>4</th>\n      <td>Silence</td>\n      <td>Marshmello</td>\n      <td>7vGuf3Y35N4wmASOKLUVVU</td>\n      <td>0.520</td>\n      <td>-3.093</td>\n      <td>0.0853</td>\n      <td>0.256</td>\n      <td>0.1700</td>\n    </tr>\n  </tbody>\n</table>\n</div>"
     },
     "metadata": {},
     "execution_count": 2
    }
   ],
   "source": [
    "data=pd.DataFrame(pd.read_csv('./spotify_data/mySongsDataset.csv'))\n",
    "data.head()\n",
    "data = data.drop(['energy','valence','tempo'],axis=1)\n",
    "data.head()"
   ]
  },
  {
   "cell_type": "code",
   "execution_count": 3,
   "metadata": {},
   "outputs": [
    {
     "output_type": "stream",
     "name": "stdout",
     "text": [
      "0   -7.648\n1   -6.351\n2   -5.574\n3   -4.558\n4   -3.093\nName: loudness, dtype: float64\n0    0.521240\n1    0.617392\n2    0.674994\n3    0.750315\n4    0.858922\nName: loudness, dtype: float64\n"
     ]
    }
   ],
   "source": [
    "from sklearn import preprocessing\n",
    "loudness=data[['loudness']].values\n",
    "print(data['loudness'].head())\n",
    "min_max_scaler=preprocessing.MinMaxScaler()\n",
    "loudness_scaled=min_max_scaler.fit_transform(loudness)\n",
    "data['loudness']=pd.DataFrame(loudness_scaled)\n",
    "print(data['loudness'].head())\n"
   ]
  },
  {
   "cell_type": "code",
   "execution_count": 7,
   "metadata": {},
   "outputs": [
    {
     "output_type": "stream",
     "name": "stdout",
     "text": [
      "Transformation Pipeline and Model Successfully Loaded\n"
     ]
    }
   ],
   "source": [
    "spotanalyst=load_model('./model/songanalysis_model')"
   ]
  },
  {
   "cell_type": "code",
   "execution_count": 8,
   "metadata": {},
   "outputs": [
    {
     "output_type": "execute_result",
     "data": {
      "text/plain": [
       "                                            name        artist  \\\n",
       "0                Eastside (with Halsey & Khalid)  benny blanco   \n",
       "1                             Young Dumb & Broke        Khalid   \n",
       "2  Sunflower - Spider-Man: Into the Spider-Verse   Post Malone   \n",
       "3                             Lonely (feat. MAX)        Matoma   \n",
       "4                                        Silence    Marshmello   \n",
       "\n",
       "                       id  danceability  loudness  speechiness  acousticness  \\\n",
       "0  0d2iYfpKoM0QCKvcLCkBao         0.560  0.521240       0.3210         0.555   \n",
       "1  5Z3GHaZ6ec9bsiI5BenrbY         0.798  0.617392       0.0421         0.199   \n",
       "2  3KkXRkHbMCARz0aVfEt68P         0.760  0.674994       0.0466         0.556   \n",
       "3  0IL20mzbwXaGVRrcan6AOB         0.588  0.750315       0.0559         0.148   \n",
       "4  7vGuf3Y35N4wmASOKLUVVU         0.520  0.858922       0.0853         0.256   \n",
       "\n",
       "   liveness  \n",
       "0    0.1160  \n",
       "1    0.1650  \n",
       "2    0.0703  \n",
       "3    0.2370  \n",
       "4    0.1700  "
      ],
      "text/html": "<div>\n<style scoped>\n    .dataframe tbody tr th:only-of-type {\n        vertical-align: middle;\n    }\n\n    .dataframe tbody tr th {\n        vertical-align: top;\n    }\n\n    .dataframe thead th {\n        text-align: right;\n    }\n</style>\n<table border=\"1\" class=\"dataframe\">\n  <thead>\n    <tr style=\"text-align: right;\">\n      <th></th>\n      <th>name</th>\n      <th>artist</th>\n      <th>id</th>\n      <th>danceability</th>\n      <th>loudness</th>\n      <th>speechiness</th>\n      <th>acousticness</th>\n      <th>liveness</th>\n    </tr>\n  </thead>\n  <tbody>\n    <tr>\n      <th>0</th>\n      <td>Eastside (with Halsey &amp; Khalid)</td>\n      <td>benny blanco</td>\n      <td>0d2iYfpKoM0QCKvcLCkBao</td>\n      <td>0.560</td>\n      <td>0.521240</td>\n      <td>0.3210</td>\n      <td>0.555</td>\n      <td>0.1160</td>\n    </tr>\n    <tr>\n      <th>1</th>\n      <td>Young Dumb &amp; Broke</td>\n      <td>Khalid</td>\n      <td>5Z3GHaZ6ec9bsiI5BenrbY</td>\n      <td>0.798</td>\n      <td>0.617392</td>\n      <td>0.0421</td>\n      <td>0.199</td>\n      <td>0.1650</td>\n    </tr>\n    <tr>\n      <th>2</th>\n      <td>Sunflower - Spider-Man: Into the Spider-Verse</td>\n      <td>Post Malone</td>\n      <td>3KkXRkHbMCARz0aVfEt68P</td>\n      <td>0.760</td>\n      <td>0.674994</td>\n      <td>0.0466</td>\n      <td>0.556</td>\n      <td>0.0703</td>\n    </tr>\n    <tr>\n      <th>3</th>\n      <td>Lonely (feat. MAX)</td>\n      <td>Matoma</td>\n      <td>0IL20mzbwXaGVRrcan6AOB</td>\n      <td>0.588</td>\n      <td>0.750315</td>\n      <td>0.0559</td>\n      <td>0.148</td>\n      <td>0.2370</td>\n    </tr>\n    <tr>\n      <th>4</th>\n      <td>Silence</td>\n      <td>Marshmello</td>\n      <td>7vGuf3Y35N4wmASOKLUVVU</td>\n      <td>0.520</td>\n      <td>0.858922</td>\n      <td>0.0853</td>\n      <td>0.256</td>\n      <td>0.1700</td>\n    </tr>\n  </tbody>\n</table>\n</div>"
     },
     "metadata": {},
     "execution_count": 8
    }
   ],
   "source": [
    "data.head(5)"
   ]
  },
  {
   "cell_type": "code",
   "execution_count": 9,
   "metadata": {},
   "outputs": [],
   "source": [
    "predictions=predict_model(spotanalyst,data=data)"
   ]
  },
  {
   "cell_type": "code",
   "execution_count": 10,
   "metadata": {},
   "outputs": [
    {
     "output_type": "execute_result",
     "data": {
      "text/plain": [
       "                                            name        artist  \\\n",
       "0                Eastside (with Halsey & Khalid)  benny blanco   \n",
       "1                             Young Dumb & Broke        Khalid   \n",
       "2  Sunflower - Spider-Man: Into the Spider-Verse   Post Malone   \n",
       "3                             Lonely (feat. MAX)        Matoma   \n",
       "4                                        Silence    Marshmello   \n",
       "\n",
       "                       id  danceability  loudness  speechiness  acousticness  \\\n",
       "0  0d2iYfpKoM0QCKvcLCkBao         0.560  0.521240       0.3210         0.555   \n",
       "1  5Z3GHaZ6ec9bsiI5BenrbY         0.798  0.617392       0.0421         0.199   \n",
       "2  3KkXRkHbMCARz0aVfEt68P         0.760  0.674994       0.0466         0.556   \n",
       "3  0IL20mzbwXaGVRrcan6AOB         0.588  0.750315       0.0559         0.148   \n",
       "4  7vGuf3Y35N4wmASOKLUVVU         0.520  0.858922       0.0853         0.256   \n",
       "\n",
       "   liveness      Label   Score  \n",
       "0    0.1160  Cluster 3  1.0000  \n",
       "1    0.1650  Cluster 0  1.0000  \n",
       "2    0.0703  Cluster 3  1.0000  \n",
       "3    0.2370  Cluster 2  0.9990  \n",
       "4    0.1700  Cluster 2  0.9981  "
      ],
      "text/html": "<div>\n<style scoped>\n    .dataframe tbody tr th:only-of-type {\n        vertical-align: middle;\n    }\n\n    .dataframe tbody tr th {\n        vertical-align: top;\n    }\n\n    .dataframe thead th {\n        text-align: right;\n    }\n</style>\n<table border=\"1\" class=\"dataframe\">\n  <thead>\n    <tr style=\"text-align: right;\">\n      <th></th>\n      <th>name</th>\n      <th>artist</th>\n      <th>id</th>\n      <th>danceability</th>\n      <th>loudness</th>\n      <th>speechiness</th>\n      <th>acousticness</th>\n      <th>liveness</th>\n      <th>Label</th>\n      <th>Score</th>\n    </tr>\n  </thead>\n  <tbody>\n    <tr>\n      <th>0</th>\n      <td>Eastside (with Halsey &amp; Khalid)</td>\n      <td>benny blanco</td>\n      <td>0d2iYfpKoM0QCKvcLCkBao</td>\n      <td>0.560</td>\n      <td>0.521240</td>\n      <td>0.3210</td>\n      <td>0.555</td>\n      <td>0.1160</td>\n      <td>Cluster 3</td>\n      <td>1.0000</td>\n    </tr>\n    <tr>\n      <th>1</th>\n      <td>Young Dumb &amp; Broke</td>\n      <td>Khalid</td>\n      <td>5Z3GHaZ6ec9bsiI5BenrbY</td>\n      <td>0.798</td>\n      <td>0.617392</td>\n      <td>0.0421</td>\n      <td>0.199</td>\n      <td>0.1650</td>\n      <td>Cluster 0</td>\n      <td>1.0000</td>\n    </tr>\n    <tr>\n      <th>2</th>\n      <td>Sunflower - Spider-Man: Into the Spider-Verse</td>\n      <td>Post Malone</td>\n      <td>3KkXRkHbMCARz0aVfEt68P</td>\n      <td>0.760</td>\n      <td>0.674994</td>\n      <td>0.0466</td>\n      <td>0.556</td>\n      <td>0.0703</td>\n      <td>Cluster 3</td>\n      <td>1.0000</td>\n    </tr>\n    <tr>\n      <th>3</th>\n      <td>Lonely (feat. MAX)</td>\n      <td>Matoma</td>\n      <td>0IL20mzbwXaGVRrcan6AOB</td>\n      <td>0.588</td>\n      <td>0.750315</td>\n      <td>0.0559</td>\n      <td>0.148</td>\n      <td>0.2370</td>\n      <td>Cluster 2</td>\n      <td>0.9990</td>\n    </tr>\n    <tr>\n      <th>4</th>\n      <td>Silence</td>\n      <td>Marshmello</td>\n      <td>7vGuf3Y35N4wmASOKLUVVU</td>\n      <td>0.520</td>\n      <td>0.858922</td>\n      <td>0.0853</td>\n      <td>0.256</td>\n      <td>0.1700</td>\n      <td>Cluster 2</td>\n      <td>0.9981</td>\n    </tr>\n  </tbody>\n</table>\n</div>"
     },
     "metadata": {},
     "execution_count": 10
    }
   ],
   "source": [
    "predictions.head()"
   ]
  },
  {
   "cell_type": "code",
   "execution_count": 11,
   "metadata": {},
   "outputs": [
    {
     "output_type": "stream",
     "name": "stdout",
     "text": [
      "\nCluster 0:\n\n danceability    0.726736\nloudness        0.649265\nspeechiness     0.088052\nacousticness    0.160083\nliveness        0.133923\nScore           0.974302\ndtype: float64\n\nCluster 1:\n\n danceability    0.614455\nloudness        0.678708\nspeechiness     0.086136\nacousticness    0.131900\nliveness        0.465500\nScore           0.953250\ndtype: float64\n\nCluster 2:\n\n danceability    0.536023\nloudness        0.615508\nspeechiness     0.094180\nacousticness    0.114148\nliveness        0.135277\nScore           0.958245\ndtype: float64\n\nCluster 3:\n\n danceability    0.612702\nloudness        0.548426\nspeechiness     0.089514\nacousticness    0.564228\nliveness        0.150293\nScore           0.992458\ndtype: float64\n"
     ]
    }
   ],
   "source": [
    "print(\"\\nCluster 0:\\n\\n\",predictions[predictions['Label']=='Cluster 0'].mean())\n",
    "print(\"\\nCluster 1:\\n\\n\",predictions[predictions['Label']=='Cluster 1'].mean())\n",
    "print(\"\\nCluster 2:\\n\\n\",predictions[predictions['Label']=='Cluster 2'].mean())\n",
    "print(\"\\nCluster 3:\\n\\n\",predictions[predictions['Label']=='Cluster 3'].mean())"
   ]
  },
  {
   "cell_type": "code",
   "execution_count": 12,
   "metadata": {},
   "outputs": [
    {
     "output_type": "stream",
     "name": "stdout",
     "text": [
      "                                                 name  \\\n1                                  Young Dumb & Broke   \n5                       Symphony (feat. Zara Larsson)   \n7                                             Sixteen   \n8                                          Without Me   \n10               What's Up Danger (with Black Caviar)   \n13                    Love Me Less (feat. Quinn XCII)   \n15                                              Alone   \n17                             As Long as You Love Me   \n18                                          Attention   \n20                                               Baby   \n23                                           Bad Liar   \n24                   Bad Things (with Camila Cabello)   \n25                                             Batman   \n26                                           Believer   \n27  Best Friend (feat. NERVO, The Knocks & ALISA U...   \n28                                         Better Now   \n29                                        Blank Space   \n30                                       Bom Bidi Bom   \n31                                    Capital Letters   \n35                                         Come Alive   \n36                         Complicated (feat. Kiiara)   \n38                                          Deadcrush   \n39                                           Delicate   \n40                                  Despacito - Remix   \n42                                           End Game   \n48                                            Love Me   \n49                     Uptown Funk (feat. Bruno Mars)   \n51                                    Never Say Never   \n52                          Havana (feat. Young Thug)   \n55                                     The Other Side   \n60                                            Starboy   \n62                                   Sweet but Psycho   \n63                                   The Sweet Escape   \n64                      Symphony (feat. Zara Larsson)   \n65     Taki Taki (with Selena Gomez, Ozuna & Cardi B)   \n67                                      thank u, next   \n68                                    This Is America   \n69                                      Thunderclouds   \n70                Top of the World (feat. Snoop Dogg)   \n77                                             Wolves   \n78                  Woman Like Me (feat. Nicki Minaj)   \n80                                         Youngblood   \n81                                               Stay   \n82                                         Such A Boy   \n83         Swalla (feat. Nicki Minaj & Ty Dolla $ign)   \n86                                        The Spectre   \n88                                  Respect My Throne   \n89                                               Rise   \n91                                        Rock Bottom   \n94                                               SAD!   \n\n                       artist                      id  danceability  loudness  \\\n1                      Khalid  5Z3GHaZ6ec9bsiI5BenrbY         0.798  0.617392   \n5                Clean Bandit  1x5sYLZiu9r5E43kMlt9f8         0.707  0.748610   \n7              Ellie Goulding  4PkIDTPGedm0enzdvilLNd         0.669  0.684558   \n8                      Halsey  5p7ujcrUXASCNwRaWNHR1C         0.752  0.565572   \n10                   Blackway  5zsHmE2gO3RefVsPyw2e3T         0.701  0.656757   \n13                        MAX  2tOOcDDYkh0PSjr6GwPEAJ         0.732  0.925124   \n15                Alan Walker  0JiVRyTJcJnmlwCZ854K4p         0.676  0.851435   \n17            Backstreet Boys  3UpS7kBnkVQYG13pDDFTC4         0.804  0.725554   \n18               Charlie Puth  5cF0dROlMOK5uNZtivgu50         0.775  0.748239   \n20              Justin Bieber  6epn3r7S14KUqlReYr77hA         0.728  0.699978   \n23               Selena Gomez  2fZQIJew3nkNe99s2PKzul         0.965  0.613166   \n24          Machine Gun Kelly  1PSBzsahR2AKwLJgx8ehBj         0.697  0.735562   \n25                      Jaden  3aC9IY1oAAb0WeFeYebriD         0.676  0.557343   \n26            Imagine Dragons  7Izh7zLJGw1Nscd62Exxj4         0.762  0.768626   \n27                Sofi Tukker  1Cicn7ce1xoVlq8gthE2eX         0.699  0.665357   \n28                Post Malone  7dt6x5M1jzdTEt8oCbisTK         0.680  0.657944   \n29               Taylor Swift  2ls70nUDfjzm1lSRDuKxmw         0.752  0.686337   \n30                 Nick Jonas  4PxDHEEyHgYC6NUgqMtDFy         0.712  0.663948   \n31           Hailee Steinfeld  0m6TrXRLlNFLkOGiW38kDf         0.671  0.680999   \n35               Hugh Jackman  5xNUR50KxswPRAvx7S163g         0.702  0.390540   \n36  Dimitri Vegas & Like Mike  1Sl3njkhhz8nrSPZroDQ82         0.678  0.843131   \n38                      alt-J  4mAeYP6WtMW4yQTbAd4PRV         0.648  0.597227   \n39               Taylor Swift  6NFyWDv5CjfwuzoCkw47Xf         0.750  0.333679   \n40                 Luis Fonsi  6rPO02ozF3bM7NnOV4h6s2         0.653  0.765513   \n42               Taylor Swift  2x0WlnmfG39ZuDmstl9xfX         0.649  0.625843   \n48              Justin Bieber  0yIywEquxORnu1dR0WYsdN         0.729  0.842168   \n49                Mark Ronson  32OlwWuMpZ6b0aN2RZOeMS         0.856  0.552747   \n51              Justin Bieber  5GYbkDveRD2I8M5ZJ14hWn         0.739  0.712877   \n52             Camila Cabello  1rfofaqEpACxVEHIZBJe6W         0.765  0.766995   \n55               Hugh Jackman  2cKovq3l6OJjhVVDbVKOsr         0.638  0.461784   \n60                 The Weeknd  7MXVkk9YMctZqd1Srtv4MB         0.679  0.568167   \n62                    Ava Max  25sgk305KZfyuqVBQIahim         0.719  0.738009   \n63               Gwen Stefani  0jIa8Bckzoy7bgURBZXxNB         0.756  0.828601   \n64               Clean Bandit  1x5sYLZiu9r5E43kMlt9f8         0.707  0.748610   \n65                   DJ Snake  4w8niZpiMy6qz1mntFA5uM         0.842  0.779302   \n67              Ariana Grande  2rPE9A1vEgShuZxxzR2tZH         0.724  0.669953   \n68           Childish Gambino  0b9oOr2ZgvyQu88wzixux9         0.854  0.631626   \n69                        Sia  5a8RPWgKSmcGBGcffmIrUi         0.691  0.644525   \n70                     Kimbra  7uFOK0ZUG1JEdw4aeH0JW4         0.611  0.613611   \n77               Selena Gomez  0tBbt8CrmxbjRP0pueQkyU         0.724  0.746164   \n78                 Little Mix  6rrTr2HEAzlpC4KWZxF3S1         0.757  0.834384   \n80        5 Seconds of Summer  2iUXsYOEPhVqEBwsqP70rE         0.596  0.709096   \n81                       Zedd  6uBhi9gBXWjanegOb2Phh0         0.690  0.715694   \n82                   Astrid S  3oIhthYPSKwAwJLA8JClkV         0.668  0.705167   \n83               Jason Derulo  6kex4EBAj0WHXDKZMEJaaF         0.696  0.801913   \n86                Alan Walker  2DGa7iaidT5s0qnINlwMjJ         0.654  0.536882   \n88                    NerdOut  3fk1WOnZIRjMuHhcnW0qfq         0.760  0.341908   \n89                 Jonas Blue  3u1S1OmAUhx5DRlLrXqyp3         0.690  0.743272   \n91           Hailee Steinfeld  2qxaR31Te4xDR2yO6LqM8z         0.611  0.714879   \n94               XXXTENTACION  3ee8Jmje8o58CHK66QrVC2         0.740  0.726444   \n\n    speechiness  acousticness  liveness      Label   Score  \n1        0.0421       0.19900    0.1650  Cluster 0  1.0000  \n5        0.0563       0.25900    0.1380  Cluster 0  1.0000  \n7        0.1360       0.26800    0.0594  Cluster 0  1.0000  \n8        0.0705       0.29700    0.0936  Cluster 0  1.0000  \n10       0.0417       0.00363    0.1210  Cluster 0  0.9996  \n13       0.0929       0.08280    0.3230  Cluster 0  0.9386  \n15       0.0458       0.18600    0.1210  Cluster 0  1.0000  \n17       0.0305       0.27500    0.2150  Cluster 0  1.0000  \n18       0.0542       0.10900    0.1340  Cluster 0  1.0000  \n20       0.1370       0.04010    0.1110  Cluster 0  1.0000  \n23       0.0713       0.18900    0.0767  Cluster 0  1.0000  \n24       0.1460       0.21400    0.1850  Cluster 0  0.9999  \n25       0.1010       0.25500    0.1180  Cluster 0  0.9999  \n26       0.1270       0.05370    0.1260  Cluster 0  1.0000  \n27       0.0392       0.01090    0.1520  Cluster 0  0.9996  \n28       0.0400       0.33100    0.1350  Cluster 0  0.9523  \n29       0.0646       0.08500    0.1300  Cluster 0  1.0000  \n30       0.0447       0.13600    0.1330  Cluster 0  0.9999  \n31       0.0797       0.03870    0.1210  Cluster 0  0.9996  \n35       0.1280       0.00558    0.2110  Cluster 0  0.9983  \n36       0.0313       0.19100    0.1590  Cluster 0  0.9999  \n38       0.0586       0.08790    0.1100  Cluster 0  0.9928  \n39       0.0682       0.21600    0.0911  Cluster 0  1.0000  \n40       0.1670       0.22800    0.0967  Cluster 0  1.0000  \n42       0.0558       0.00845    0.1080  Cluster 0  0.6174  \n48       0.0609       0.00939    0.2830  Cluster 0  0.9989  \n49       0.0824       0.00801    0.0344  Cluster 0  1.0000  \n51       0.0652       0.01810    0.2950  Cluster 0  0.9998  \n52       0.0300       0.18400    0.1320  Cluster 0  1.0000  \n55       0.3020       0.00433    0.1530  Cluster 0  0.9856  \n60       0.2760       0.14100    0.1370  Cluster 0  0.9999  \n62       0.0476       0.06910    0.1660  Cluster 0  0.9999  \n63       0.0343       0.19100    0.1780  Cluster 0  1.0000  \n64       0.0563       0.25900    0.1380  Cluster 0  1.0000  \n65       0.2280       0.15700    0.0642  Cluster 0  1.0000  \n67       0.0658       0.28000    0.1020  Cluster 0  1.0000  \n68       0.1370       0.11700    0.3540  Cluster 0  0.9910  \n69       0.0351       0.00850    0.2630  Cluster 0  0.9981  \n70       0.3360       0.15000    0.1860  Cluster 0  0.9648  \n77       0.0448       0.12400    0.2040  Cluster 0  0.9999  \n78       0.0536       0.17300    0.0878  Cluster 0  1.0000  \n80       0.4630       0.01690    0.1240  Cluster 0  0.9786  \n81       0.0622       0.25300    0.1160  Cluster 0  1.0000  \n82       0.1110       0.04810    0.0798  Cluster 0  0.9999  \n83       0.1090       0.07500    0.1870  Cluster 0  0.9998  \n86       0.0383       0.02140    0.0903  Cluster 0  0.9264  \n88       0.3940       0.04360    0.1070  Cluster 0  1.0000  \n89       0.0320       0.32300    0.2030  Cluster 0  0.9587  \n91       0.0603       0.31300    0.0530  Cluster 0  0.8543  \n94       0.1450       0.25800    0.1230  Cluster 0  1.0000  \n"
     ]
    }
   ],
   "source": [
    "print(predictions[predictions['Label']=='Cluster 0'].head(50))\n",
    "#Energetic"
   ]
  },
  {
   "cell_type": "code",
   "execution_count": 13,
   "metadata": {},
   "outputs": [
    {
     "output_type": "stream",
     "name": "stdout",
     "text": [
      "                                                  name               artist  \\\n11                                     Save Your Tears           The Weeknd   \n14                                           All Night            The Vamps   \n22                              As Long As You Love Me        Justin Bieber   \n57                                   Rewrite The Stars         James Arthur   \n58                                   The Greatest Show  Panic! At The Disco   \n85   Speakerbox (feat. Ohana Bam & Lafa Taylor) - F...           Bassnectar   \n87                                     Somebody To You            The Vamps   \n90                                                Roar           Katy Perry   \n98                            Solo (feat. Demi Lovato)         Clean Bandit   \n110                                               Mine                Bazzi   \n120        Kannala Kannala - The Melting Point of Love       Hiphop Tamizha   \n138                                               Aval   Santhosh Narayanan   \n143                           Karuthavanlaam Galeejaam  Anirudh Ravichander   \n166            Kurukku Siruthvalea ( From \"Mudhalvan\")            Hariharan   \n172                     Pakkam Vanthu (From \"Kaththi\")  Anirudh Ravichander   \n174                      Selfie Pulla (From \"Kaththi\")                Vijay   \n175                             Aathi (From \"Kaththi\")  Anirudh Ravichander   \n182                                  Nadhiyae Nadhiyae           Unni Menon   \n183                                             Hayati          A.R. Rahman   \n194                                           Showkali          A.R. Rahman   \n197                                    Mental Manadhil          A.R. Rahman   \n209                                             Oxygen       Hiphop Tamizha   \n\n                         id  danceability  loudness  speechiness  \\\n11   5QO79kh1waicV47BqGRL3g         0.680  0.681444       0.0309   \n14   0dXNQ8dckG4eYfEtq9zcva         0.538  0.703166       0.0358   \n22   0pwYLVXVknPSGUQb39cePC         0.571  0.837497       0.1000   \n57   7FlHNJT4TC120CDvFOHzei         0.670  0.718067       0.0393   \n58   55PZSFcKQxXH5BOOcDA6yI         0.546  0.690489       0.0784   \n85   3JiyUyibMs31de0hmoeSK9         0.576  0.939210       0.1260   \n87   6VrLYoQKdhu1Jruei06t65         0.526  0.646972       0.0358   \n90   6F5c58TMEs1byxUstkzVeM         0.554  0.730818       0.0418   \n98   6kPJZM97LwdG9QIsT7khp6         0.737  0.751205       0.0437   \n110  7uzmGiiJyRfuViKKK3lVmR         0.710  0.801023       0.0722   \n120  4nSwWiwtieiNmRAjy9fEXN         0.593  0.766254       0.0325   \n138  4LK8863ScRhhT6hitFfBI5         0.324  0.444510       0.0336   \n143  22cCckQ9DR4E94QhtUzSW3         0.670  0.761732       0.3080   \n166  32A0uFoMdlEB1tlnktxfV9         0.690  0.432649       0.0845   \n172  73QrFjT6dth8UlR7vFOFVM         0.756  0.865001       0.1290   \n174  0NlKDGqNJ1is6V8eLBhj7S         0.714  0.874416       0.1730   \n175  2B2Y1qGComLKdsHLktgCbV         0.571  0.700348       0.0607   \n182  6oAMvvfm6kQhADxsfTC9Ah         0.398  0.209875       0.0970   \n183  0ZV2OU0ciMA1yZS86qv51V         0.712  0.530951       0.0497   \n194  3hHFVG2vcNfooKXgfLgCWd         0.818  0.618504       0.2100   \n197  4mOmWSdTmf6fSAibGWCKp7         0.568  0.496404       0.0810   \n209  4mDf0LNDfzT8w7S2nfix3m         0.596  0.731040       0.0321   \n\n     acousticness  liveness      Label   Score  \n11        0.02120     0.543  Cluster 1  1.0000  \n14        0.00410     0.330  Cluster 1  0.5216  \n22        0.08110     0.361  Cluster 1  0.9993  \n57        0.23700     0.465  Cluster 1  1.0000  \n58        0.00546     0.382  Cluster 1  0.9999  \n85        0.02080     0.334  Cluster 1  0.9851  \n87        0.05870     0.333  Cluster 1  0.6844  \n90        0.00487     0.354  Cluster 1  0.9950  \n98        0.04410     0.350  Cluster 1  0.9673  \n110       0.01610     0.451  Cluster 1  1.0000  \n120       0.21600     0.329  Cluster 1  0.9852  \n138       0.27100     0.433  Cluster 1  0.9979  \n143       0.20900     0.346  Cluster 1  0.9988  \n166       0.17000     0.382  Cluster 1  0.9997  \n172       0.34600     0.639  Cluster 1  0.9999  \n174       0.36000     0.390  Cluster 1  0.9408  \n175       0.21600     0.685  Cluster 1  1.0000  \n182       0.42300     0.942  Cluster 1  0.9685  \n183       0.00297     0.933  Cluster 1  1.0000  \n194       0.05310     0.573  Cluster 1  0.9925  \n197       0.01230     0.361  Cluster 1  0.9991  \n209       0.12900     0.325  Cluster 1  0.9365  \n"
     ]
    }
   ],
   "source": [
    "print(predictions[predictions['Label']=='Cluster 1'].head(50))\n",
    "#Cheerful"
   ]
  },
  {
   "cell_type": "code",
   "execution_count": 14,
   "metadata": {},
   "outputs": [
    {
     "output_type": "stream",
     "name": "stdout",
     "text": [
      "                                                  name               artist  \\\n3                                   Lonely (feat. MAX)               Matoma   \n4                                              Silence           Marshmello   \n9                                             Memories             Thutmose   \n16                                               Alone           Marshmello   \n19                                        The Avengers       Alan Silvestri   \n21   Back To You - From 13 Reasons Why – Season 2 S...         Selena Gomez   \n32                                              Chains           Nick Jonas   \n33                     Cheap Thrills (feat. Sean Paul)                  Sia   \n37                 Cross My Mind, Pt. 2 (feat. Kiiara)        A R I Z O N A   \n41                                   Don't Let Me Down     The Chainsmokers   \n43                                              Energy              Avelino   \n44                                             Thunder      Imagine Dragons   \n45                                Just the Way You Are           Bruno Mars   \n47                            Something Just Like This     The Chainsmokers   \n50                                                  Up        Justin Bieber   \n53                                   The Greatest Show         Hugh Jackman   \n54                                    A Million Dreams          Ziv Zaifman   \n56                                           Tightrope    Michelle Williams   \n59                                   That Should Be Me        Justin Bieber   \n61                                            Supercut                Lorde   \n66                                   Talk of This Town    Catherine McGrath   \n71                                          Up Is Down          Hans Zimmer   \n73                          We Own It (Fast & Furious)             2 Chainz   \n76                                                Wild    Catherine McGrath   \n79                                       You're Such A     Hailee Steinfeld   \n84                                               Sorry        Justin Bieber   \n100                                            Perfect           Ed Sheeran   \n106                                         No Brainer            DJ Khaled   \n111                                      Míol Mór Mara             Outsider   \n122                                          Munbe Vaa          A.R. Rahman   \n135                                Maalai Yen Vedhanai          Ilaiyaraaja   \n139                       Namma Chennai Chance ey Illa  Anirudh Ravichander   \n142                                             Iraiva  Anirudh Ravichander   \n148                                         Maatikichu      V.M. Mahalingam   \n151                                    Udhungada Sangu  Anirudh Ravichander   \n162          Kaattrae En Vaasal (Wind) (From \"Rhythm\")         Unnikrishnan   \n163                    The Karma Theme - From \"U Turn\"  Anirudh Ravichander   \n169                        Iraiva (From \"Velaikkaran\")  Anirudh Ravichander   \n178                                        Vaadi Ne Va       Hiphop Tamizha   \n179                              Machi Engalukku Ellam       Hiphop Tamizha   \n191                                 Vilambara Idaiveli       Hiphop Tamizha   \n192                                 Neeyum Naanum Anbe       Hiphop Tamizha   \n196                                       Aye Sinamika          A.R. Rahman   \n208                        Kadhal Ara Onnu Vizundhuchu          Sean Roldan   \n\n                         id  danceability  loudness  speechiness  \\\n3    0IL20mzbwXaGVRrcan6AOB         0.588  0.750315       0.0559   \n4    7vGuf3Y35N4wmASOKLUVVU         0.520  0.858922       0.0853   \n9    2CWOMDYFK4Ef3867nEhnVM         0.567  0.558455       0.0554   \n16   12mGwph2YzDIlChtq3EdXP         0.636  0.810957       0.0353   \n19   2Zb6Cu5peVtG3UDifxEd1u         0.365  0.075988       0.0738   \n21   4hQ6UGyWQIGJmHSo0J88JW         0.601  0.728223       0.0486   \n32   5Eg4TsPcqNbIjd8ADMZosg         0.589  0.652235       0.0459   \n33   2ONIJ40u0Attbm3miIIpNO         0.592  0.723182       0.2010   \n37   6JsfvqClYnc2R5yZ67C2ch         0.632  0.703610       0.0450   \n41   1i1fxkWeaMmKEB4T7zqbzK         0.532  0.710579       0.1720   \n43   7IMqgNhzeFbxK0kOwNgybQ         0.517  0.407443       0.3230   \n44   1zB4vmk8tFRmM9UULNzbLB         0.605  0.729928       0.0438   \n45   47Slg6LuqLaX0VodpSCvPt         0.637  0.686930       0.0432   \n47   6RUKPb4LETWmmr3iAEQktW         0.617  0.586404       0.0317   \n50   0NLaJkNWZARgae0ojQOOvi         0.633  0.772555       0.0452   \n53   4ylWMuGbMXNDgDd8lErEle         0.417  0.542590       0.1050   \n54   0RoA7ObU6phWpqhlC9zH4Z         0.265  0.221662       0.0569   \n56   0GVuLQtPXFaL18ijEOqoAa         0.351  0.323449       0.0382   \n59   42wmRq3kfUUuyszlkWQbPS         0.467  0.586923       0.0318   \n61   0dyiHoYbYjYaOEXLpmzQZG         0.587  0.317592       0.0506   \n66   0SpXbl9lLD70gFZ91rDWOW         0.444  0.871451       0.2270   \n71   5eZiC96lRq6IPHEOnbw0KS         0.276  0.000000       0.0574   \n73   23WHTR4EN7QUx1oqa2z0zh         0.548  0.750019       0.4090   \n76   5z3aOMWyFxBBoYiqvZIbul         0.408  0.818371       0.0541   \n79   3QTDzwSkRW04FVPo6COm0H         0.620  0.619468       0.0997   \n84   09CtPGIpYB4BrO8qb1RGsF         0.654  0.816221       0.0450   \n100  0tgVpDi06FyKpA1z0VMD4v         0.599  0.620283       0.0232   \n106  5WvAo7DNuPRmk4APhdPzi8         0.552  0.739343       0.3420   \n111  6O9trMlvwEEYdYn3seB5dR         0.317  0.591667       0.0555   \n122  6vZj02bcQqLTYRAi4jRkw7         0.609  0.389725       0.0336   \n135  5OxzBgOYuDr1Q8d5Wbu8Yp         0.592  0.023723       0.0496   \n139  6EJyDOvolh2gSpeVVk2Qti         0.389  0.779821       0.1450   \n142  13nt0ZQGcwH7oPitTFwjPX         0.571  0.672845       0.0481   \n148  402tkgRtRsBEv9roh8Frhk         0.545  0.919786       0.2890   \n151  3RTSwqeT3UDNUhMECiJ99K         0.449  0.676774       0.1000   \n162  3DU8cZOlFamdmNclaHjJiy         0.613  0.029506       0.0392   \n163  0SOAuohGmdPWKnBxGiwJkn         0.580  0.720068       0.0415   \n169  0vzEVSSjovxIn85uyrsvV3         0.571  0.672845       0.0481   \n178  2mE6gj9epD1QLaTjRRbLtZ         0.632  0.826155       0.0761   \n179  5An5GnSwpugx22qOc3gGUa         0.582  0.906220       0.1850   \n191  20xkpWij36oGYQuE6yXVLN         0.631  0.797465       0.0338   \n192  0zsA45R0SQPfqC5TyDOqY8         0.467  0.800208       0.0490   \n196  5SgReZZHzHj9mUzJWBBvr4         0.580  0.540589       0.0413   \n208  7IO5iU84tFIZ4kfvhrg4oZ         0.638  0.751872       0.0641   \n\n     acousticness  liveness      Label   Score  \n3        0.148000    0.2370  Cluster 2  0.9990  \n4        0.256000    0.1700  Cluster 2  0.9981  \n9        0.051900    0.1830  Cluster 2  0.9989  \n16       0.024400    0.1080  Cluster 2  0.9989  \n19       0.196000    0.0650  Cluster 2  0.9999  \n21       0.094500    0.1200  Cluster 2  0.9983  \n32       0.015100    0.0757  Cluster 2  0.9997  \n33       0.059900    0.1250  Cluster 2  0.9335  \n37       0.064600    0.1610  Cluster 2  0.9543  \n41       0.157000    0.1360  Cluster 2  0.9987  \n43       0.030500    0.0797  Cluster 2  0.9895  \n44       0.006710    0.1470  Cluster 2  0.9998  \n45       0.015100    0.0876  Cluster 2  0.9832  \n47       0.049800    0.1640  Cluster 2  0.9987  \n50       0.123000    0.1000  Cluster 2  0.8579  \n53       0.000239    0.0725  Cluster 2  1.0000  \n54       0.243000    0.0893  Cluster 2  0.9995  \n56       0.300000    0.0919  Cluster 2  0.9998  \n59       0.031200    0.0596  Cluster 2  1.0000  \n61       0.225000    0.0801  Cluster 2  0.9424  \n66       0.018100    0.1110  Cluster 2  1.0000  \n71       0.251000    0.0946  Cluster 2  0.9994  \n73       0.051600    0.0529  Cluster 2  0.8278  \n76       0.004810    0.1900  Cluster 2  1.0000  \n79       0.007980    0.1130  Cluster 2  0.9939  \n84       0.079700    0.2990  Cluster 2  0.6167  \n100      0.163000    0.1060  Cluster 2  0.9962  \n106      0.073300    0.0865  Cluster 2  0.9760  \n111      0.001120    0.2800  Cluster 2  1.0000  \n122      0.245000    0.2070  Cluster 2  0.8246  \n135      0.166000    0.0384  Cluster 2  0.9943  \n139      0.157000    0.2630  Cluster 2  1.0000  \n142      0.198000    0.1030  Cluster 2  0.9982  \n148      0.048600    0.2690  Cluster 2  0.9995  \n151      0.220000    0.0654  Cluster 2  0.9996  \n162      0.208000    0.1890  Cluster 2  0.7988  \n163      0.008260    0.0690  Cluster 2  0.9999  \n169      0.198000    0.1030  Cluster 2  0.9982  \n178      0.103000    0.2250  Cluster 2  0.9812  \n179      0.098100    0.0810  Cluster 2  0.9973  \n191      0.110000    0.0910  Cluster 2  0.9549  \n192      0.298000    0.2040  Cluster 2  0.9999  \n196      0.121000    0.1110  Cluster 2  0.9994  \n208      0.101000    0.2480  Cluster 2  0.5569  \n"
     ]
    }
   ],
   "source": [
    "print(predictions[predictions['Label']=='Cluster 2'].head(50))\n",
    "#Chill"
   ]
  },
  {
   "cell_type": "code",
   "execution_count": 15,
   "metadata": {},
   "outputs": [
    {
     "output_type": "stream",
     "name": "stdout",
     "text": [
      "                                                name               artist  \\\n0                    Eastside (with Halsey & Khalid)         benny blanco   \n2      Sunflower - Spider-Man: Into the Spider-Verse          Post Malone   \n6                                             Closer     The Chainsmokers   \n12                                        Heat Waves        Glass Animals   \n34                                            Closer     The Chainsmokers   \n46                                      Shape of You           Ed Sheeran   \n72        We Don't Talk Anymore (feat. Selena Gomez)         Charlie Puth   \n74                     We Will Rock You - Remastered                Queen   \n75                                 What Do You Mean?        Justin Bieber   \n92           Rockabye (feat. Sean Paul & Anne-Marie)         Clean Bandit   \n93                                      Ruin My Life         Zara Larsson   \n95                See You Again (feat. Charlie Puth)          Wiz Khalifa   \n103                                Perfect Strangers           Jonas Blue   \n107                                       Not Afraid               Eminem   \n108                                     Never Enough         Loren Allred   \n112                                        Mistletoe        Justin Bieber   \n113                                        Moonlight         XXXTENTACION   \n115                                  Moongil Thottam          A.R. Rahman   \n116                                        En Jeevan            Hariharan   \n117                            Unakkenna Venum Sollu       Harris Jayaraj   \n119                 Mazhaiye Mazhaiye (From \"Eeram\")             Thaman S   \n121                                Un Mele Oru Kannu             D. Imman   \n123                                  Pookkal Pookkum        G. V. Prakash   \n125                                      Yathe Yathe        G. V. Prakash   \n126                                       Nenjukkule          A.R. Rahman   \n127                                Saayndhu Saayndhu          Ilaiyaraaja   \n129                                       Yaarumilla          A.R. Rahman   \n133                              Kandaangi Kandaangi                Vijay   \n136                                       Ei Suzhali   Santhosh Narayanan   \n137                                    Bhoomi Bhoomi          A.R. Rahman   \n141                                       Senjitaley  Anirudh Ravichander   \n144                       Marana Mass - From \"Petta\"  Anirudh Ravichander   \n146                Ilamai Thirumbudhe - From \"Petta\"  Anirudh Ravichander   \n147                                Vaadi Pulla Vaadi       Hiphop Tamizha   \n150                                           Yaayum               Shabir   \n152                                       Mannipaaya          A.R. Rahman   \n155                              Vaayadi Petha Pulla   Dhibu Ninan Thomas   \n156                       Idhayam Love (Megamo Aval)   Santhosh Narayanan   \n157                    Thangachi Song (Anabelle Pei)   Santhosh Narayanan   \n160                                     Chella Kutti                Vijay   \n161                                     Mudhal Murai          Ilaiyaraaja   \n164                                           Yaanji  Anirudh Ravichander   \n167                                           Malare        Vijay Yesudas   \n177                                  Meesaya Murukku       Hiphop Tamizha   \n181                                     Nenjae Yezhu          A.R. Rahman   \n184              Enna Solla - The New Life of Tamizh  Anirudh Ravichander   \n188                           Yennai Maatrum Kadhale  Anirudh Ravichander   \n195                                    Avalum Naanum          A.R. Rahman   \n201                                           Neeyae       Vivek - Mervin   \n202  Yaenadi (From \"Adhagappattathu Magajanangalay\")             D. Imman   \n\n                         id  danceability  loudness  speechiness  \\\n0    0d2iYfpKoM0QCKvcLCkBao         0.560  0.521240       0.3210   \n2    3KkXRkHbMCARz0aVfEt68P         0.760  0.674994       0.0466   \n6    7BKLCZ1jbUBVqRi2FVlTVw         0.748  0.673141       0.0338   \n12   3USxtqRwSYz57Ewm6wWRMp         0.761  0.576692       0.0944   \n34   7BKLCZ1jbUBVqRi2FVlTVw         0.748  0.673141       0.0338   \n46   7qiZfU4dY1lWllzX7mPBI3         0.825  0.852250       0.0802   \n72   06KyNuuMOX1ROXRhj787tj         0.728  0.491215       0.1340   \n74   4pbJqGIASGPr0ZpGpnWkDn         0.692  0.545852       0.1190   \n75   4B0JvthVoAAuygILe3n4Bs         0.845  0.486396       0.0956   \n92   5knuzwU65gJK7IF5yJsuaW         0.720  0.786641       0.0523   \n93   5tAa8Uaqr4VvA3693mbIhU         0.665  0.697902       0.0578   \n95   2JzZzZUQj3Qff7wapcbKjc         0.689  0.531989       0.0815   \n103  1Te8WIfLudxjHTr66BL0JK         0.731  0.694937       0.0459   \n107  7Ie9W94M7OjPoZVV216Xus         0.855  1.000000       0.2640   \n108  0Gl5s8IhMmQE5YQwM8Qx1J         0.277  0.428201       0.0336   \n112  7xapw9Oy21WpfEcib2ErSA         0.657  0.417377       0.0467   \n113  0JP9xo3adEtGSdUEISiszL         0.921  0.663948       0.0804   \n115  5PNZX8yqzqqAMPpl3UAoaP         0.501  0.265846       0.0291   \n116  5jkH9Pgv28mW9ve6uGtohT         0.409  0.410927       0.0383   \n117  00bHxCcteaAJhU5WiP1mtf         0.715  0.353251       0.0371   \n119  0T6V0zYOaT14dT0YkEwxea         0.784  0.350434       0.0429   \n121  4I62FSgKZ9ucNajFmAu93G         0.787  0.764697       0.0345   \n123  7hMKAmUlUUYa5qEiHWK4bk         0.589  0.198161       0.0359   \n125  6mmGbsCqf5e8vxv1WodYIG         0.448  0.746757       0.0611   \n126  7FEWG1bL31YAcnxJQvxJJO         0.473  0.478538       0.0311   \n127  0f6cGe7JVOKXfTUZCvj43L         0.658  0.353547       0.0315   \n129  5KUp3VNVnUUTADBi6Ep2nk         0.550  0.716436       0.0296   \n133  5qGrY4iAi05Ej1yjfUUhNe         0.596  0.805249       0.0317   \n136  2lOrPIWA114GA1OFEcHc8R         0.797  0.424939       0.4230   \n137  7gOLEgc9oDOObwKxJpPBY8         0.678  0.194158       0.0420   \n141  2RB3zzgxWc2RRBaJOkSEka         0.655  0.703833       0.1400   \n144  7j7fS14vlwVk0Pfnr0hovC         0.471  0.680258       0.3730   \n146  4IUGuoJ41g5fLIqsO1MJoU         0.395  0.523612       0.0625   \n147  5dQR15IPbFDhTVwjfZgqR0         0.473  0.685596       0.0620   \n150  4Uh41d7PlFHP2gCinJEWlr         0.398  0.550226       0.0423   \n152  7mMkw0JFKnyMS6oGRT6b3O         0.389  0.423901       0.0348   \n155  5l9tSLGgcyJCS310nEXKIH         0.709  0.496182       0.1730   \n156  1t99uhmctVeG4FbC5giRCM         0.296  0.334347       0.0296   \n157  12k0eXsh81nFZ8wDTjfkVr         0.898  0.601453       0.3770   \n160  6XWQQoeqyHcQ0NlXt0iVDM         0.692  0.669583       0.1020   \n161  3re0HrBkLNV2lfHoTtSOgy         0.620  0.672622       0.0466   \n164  5NEGfbKMcNuEWOzpWufScA         0.692  0.606939       0.0337   \n167  6VYErws706O3gewcFMv0i9         0.453  0.407369       0.0307   \n177  1fERvpF9968go72c3GRksb         0.601  0.916747       0.1460   \n181  33iY77PeBCX5WosXbg9aZf         0.609  0.482171       0.0269   \n184  2109dBho14Lqh2wr8goqAP         0.621  0.419601       0.0453   \n188  6RXJKdpBp6AVL6H6sHyNp0         0.515  0.547706       0.0936   \n195  49KzsDrsY27UrTBp1bBIbF         0.335  0.093039       0.0351   \n201  1MZbccVLcsHx8jH4wcfbBs         0.446  0.548447       0.0369   \n202  6v2kdsoQiRAcjUSndjcKxj         0.557  0.892579       0.0336   \n\n     acousticness  liveness      Label   Score  \n0           0.555    0.1160  Cluster 3  1.0000  \n2           0.556    0.0703  Cluster 3  1.0000  \n6           0.414    0.1110  Cluster 3  1.0000  \n12          0.440    0.0921  Cluster 3  1.0000  \n34          0.414    0.1110  Cluster 3  1.0000  \n46          0.581    0.0931  Cluster 3  0.9962  \n72          0.621    0.1790  Cluster 3  1.0000  \n74          0.676    0.2590  Cluster 3  1.0000  \n75          0.590    0.0811  Cluster 3  0.9998  \n92          0.406    0.1800  Cluster 3  0.9998  \n93          0.423    0.0969  Cluster 3  1.0000  \n95          0.369    0.0649  Cluster 3  0.9983  \n103         0.394    0.2880  Cluster 3  1.0000  \n107         0.529    0.2050  Cluster 3  0.9714  \n108         0.423    0.0952  Cluster 3  0.9981  \n112         0.498    0.0794  Cluster 3  1.0000  \n113         0.556    0.1020  Cluster 3  0.9990  \n115         0.891    0.1010  Cluster 3  1.0000  \n116         0.552    0.5400  Cluster 3  0.8114  \n117         0.472    0.1160  Cluster 3  1.0000  \n119         0.452    0.1750  Cluster 3  0.9999  \n121         0.474    0.0989  Cluster 3  0.9996  \n123         0.844    0.1690  Cluster 3  1.0000  \n125         0.791    0.0888  Cluster 3  0.9999  \n126         0.699    0.1320  Cluster 3  1.0000  \n127         0.746    0.3480  Cluster 3  1.0000  \n129         0.698    0.0916  Cluster 3  1.0000  \n133         0.543    0.2200  Cluster 3  0.9999  \n136         0.781    0.3260  Cluster 3  0.9999  \n137         0.491    0.2740  Cluster 3  1.0000  \n141         0.476    0.2150  Cluster 3  1.0000  \n144         0.470    0.1460  Cluster 3  1.0000  \n146         0.719    0.1750  Cluster 3  0.9999  \n147         0.342    0.2750  Cluster 3  0.9245  \n150         0.893    0.0932  Cluster 3  0.9999  \n152         0.700    0.1220  Cluster 3  0.9998  \n155         0.436    0.1120  Cluster 3  1.0000  \n156         0.777    0.0909  Cluster 3  0.9996  \n157         0.402    0.1650  Cluster 3  0.9073  \n160         0.353    0.0915  Cluster 3  0.9887  \n161         0.380    0.0922  Cluster 3  0.9998  \n164         0.368    0.1080  Cluster 3  0.9963  \n167         0.753    0.1060  Cluster 3  1.0000  \n177         0.419    0.2630  Cluster 3  0.9999  \n181         0.492    0.0852  Cluster 3  1.0000  \n184         0.616    0.1100  Cluster 3  1.0000  \n188         0.460    0.1360  Cluster 3  1.0000  \n195         0.899    0.0965  Cluster 3  0.9998  \n201         0.566    0.1030  Cluster 3  1.0000  \n202         0.358    0.2530  Cluster 3  0.9816  \n"
     ]
    }
   ],
   "source": [
    "print(predictions[predictions['Label']=='Cluster 3'].head(50))\n",
    "#Romantic"
   ]
  },
  {
   "cell_type": "code",
   "execution_count": null,
   "metadata": {},
   "outputs": [],
   "source": []
  }
 ]
}